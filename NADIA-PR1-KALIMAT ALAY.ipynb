{
 "cells": [
  {
   "cell_type": "code",
   "execution_count": 6,
   "metadata": {},
   "outputs": [
    {
     "name": "stdout",
     "output_type": "stream",
     "text": [
      "enter a word:hahaha\n",
      "h@h@h@\n"
     ]
    }
   ],
   "source": [
    "phrase = input(\"enter a word:\")\n",
    "if len(phrase)>0:\n",
    "    word=phrase.lower()\n",
    "    word1=(word.replace('a','@'))\n",
    "    word2=(word1.replace('i','1'))\n",
    "    word3=(word2.replace('e','3'))\n",
    "    word4=(word3.replace('o','0'))\n",
    "    word5=(word4.replace('s','5'))\n",
    "    print (word5)\n",
    "    \n",
    "else:\n",
    "    print (\"empty\")\n",
    "    "
   ]
  }
 ],
 "metadata": {
  "kernelspec": {
   "display_name": "Python 3",
   "language": "python",
   "name": "python3"
  },
  "language_info": {
   "codemirror_mode": {
    "name": "ipython",
    "version": 3
   },
   "file_extension": ".py",
   "mimetype": "text/x-python",
   "name": "python",
   "nbconvert_exporter": "python",
   "pygments_lexer": "ipython3",
   "version": "3.7.3"
  }
 },
 "nbformat": 4,
 "nbformat_minor": 2
}
