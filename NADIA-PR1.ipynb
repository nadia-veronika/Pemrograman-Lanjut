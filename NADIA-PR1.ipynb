{
 "cells": [
  {
   "cell_type": "code",
   "execution_count": 1,
   "metadata": {},
   "outputs": [
    {
     "name": "stdout",
     "output_type": "stream",
     "text": [
      "Welcome to Phyton!\n",
      "3\n",
      "4.23\n",
      "3.69\n"
     ]
    }
   ],
   "source": [
    "print (\"Welcome to Phyton!\")\n",
    "my_variable=10\n",
    "\n",
    "my_int=7\n",
    "my_float=1.23\n",
    "my_bool=True\n",
    "\n",
    "#change value\n",
    "my_int=7\n",
    "my_int=3\n",
    "print (my_int)\n",
    "print (my_float+my_int)\n",
    "print (3*my_float)\n",
    "\n",
    "\n"
   ]
  },
  {
   "cell_type": "code",
   "execution_count": 2,
   "metadata": {},
   "outputs": [],
   "source": [
    "def spam():\n",
    " eggs= 12\n",
    " return eggs\n",
    " print (spam)\n"
   ]
  },
  {
   "cell_type": "code",
   "execution_count": 3,
   "metadata": {},
   "outputs": [
    {
     "name": "stdout",
     "output_type": "stream",
     "text": [
      "<function spam at 0x0000017A7D422AE8>\n",
      "<function spam at 0x0000017A7D422C80>\n"
     ]
    }
   ],
   "source": [
    "# first\n",
    "def spam():\n",
    "    eggs = 12\n",
    "    return eggs\n",
    "print (spam)\n",
    "# second\n",
    "def spam():\n",
    "  eggs = 12\n",
    "  return eggs\n",
    "print (spam)"
   ]
  },
  {
   "cell_type": "code",
   "execution_count": 4,
   "metadata": {},
   "outputs": [
    {
     "name": "stdout",
     "output_type": "stream",
     "text": [
      "11000.6\n",
      "12166529024\n",
      "1\n"
     ]
    }
   ],
   "source": [
    "# single line comment\n",
    "\"\"\"test\n",
    "multi lines comment\n",
    "\"\"\"\n",
    "addition = 72 + 23\n",
    "subtraction = 108 - 204\n",
    "multiplication = 108 * 0.5\n",
    "division = 108 / 9\n",
    "# addition\n",
    "count_to = 5000 + 6000.6\n",
    "print (count_to)\n",
    "# square, exponentiation, to the power of\n",
    "eggs = 104**5\n",
    "print (eggs)\n",
    "# modulo\n",
    "spam = 5 % 4\n",
    "print (spam)\n",
    "# 1, modulo"
   ]
  },
  {
   "cell_type": "code",
   "execution_count": 6,
   "metadata": {},
   "outputs": [
    {
     "name": "stdout",
     "output_type": "stream",
     "text": [
      "54.63\n"
     ]
    }
   ],
   "source": [
    "meal = 44.50\n",
    "\n",
    "tax=0.0675\n",
    "tip=0.15\n",
    "meal = meal+meal*tax\n",
    "total = meal+meal*tip\n",
    "print(\"%.2f\"%total)\n"
   ]
  },
  {
   "cell_type": "code",
   "execution_count": 7,
   "metadata": {},
   "outputs": [
    {
     "name": "stdout",
     "output_type": "stream",
     "text": [
      "This isn't flying, this is falling with style!\n"
     ]
    }
   ],
   "source": [
    "abc = 'This isn\\'t flying, this is falling with style!'\n",
    "print(abc)"
   ]
  },
  {
   "cell_type": "code",
   "execution_count": 8,
   "metadata": {},
   "outputs": [
    {
     "name": "stdout",
     "output_type": "stream",
     "text": [
      "Y\n"
     ]
    }
   ],
   "source": [
    "fifth_letter='MONTY'[4]\n",
    "#karena mulai dari 0\n",
    "print (fifth_letter)\n"
   ]
  },
  {
   "cell_type": "code",
   "execution_count": 9,
   "metadata": {},
   "outputs": [
    {
     "name": "stdout",
     "output_type": "stream",
     "text": [
      "14\n",
      "norwegian blue\n",
      "NORWEGIAN BLUE\n"
     ]
    }
   ],
   "source": [
    "parrot = \"Norwegian Blue\"\n",
    "print (len(parrot)) \n",
    "#14\n",
    "\n",
    "print (parrot.lower()) \n",
    "print (parrot.upper())"
   ]
  },
  {
   "cell_type": "code",
   "execution_count": 10,
   "metadata": {},
   "outputs": [
    {
     "name": "stdout",
     "output_type": "stream",
     "text": [
      "3.14\n",
      "1\n"
     ]
    }
   ],
   "source": [
    "pi=3.14\n",
    "print (str(pi))\n",
    "\n",
    "ambil_huruf_kedua = '3.14' [2]\n",
    "print(ambil_huruf_kedua)"
   ]
  },
  {
   "cell_type": "code",
   "execution_count": 11,
   "metadata": {},
   "outputs": [
    {
     "name": "stdout",
     "output_type": "stream",
     "text": [
      "27\n",
      "THE MINISTRY OF SILLY WALKS\n"
     ]
    }
   ],
   "source": [
    "ministry = \"The Ministry of Silly Walks\"\n",
    "print (len(ministry))\n",
    "print (ministry.upper())"
   ]
  },
  {
   "cell_type": "code",
   "execution_count": 12,
   "metadata": {},
   "outputs": [
    {
     "name": "stdout",
     "output_type": "stream",
     "text": [
      "Spam and eggs\n",
      "The value of pi is around \n",
      "The value of pi is around 3.14\n",
      "Let's not go to Camelot. 'Tis a silly place.\n",
      "Hello Mike\n",
      "What is your name?nadia\n",
      "What is your quest?-\n",
      "What is your favorite color?red\n",
      "Ah, so your name is nadia, your quest is -, and your favorite color is red.\n"
     ]
    }
   ],
   "source": [
    "# to string, printing variables, string concatenation\n",
    "print (\"Spam \" + \"and \" + \"eggs\")\n",
    "print (\"The value of pi is around \")\n",
    "# error\n",
    "print (\"The value of pi is around \" + str(3.14))\n",
    "string_1 = \"Camelot\"\n",
    "string_2 = \"place\"\n",
    "print (\"Let's not go to %s. 'Tis a silly %s.\" % (string_1, string_2))\n",
    "# string formatting\n",
    "name = \"Mike\"\n",
    "print (\"Hello %s\" % (name))\n",
    "# string formatting, tanda %s dan %\n",
    "# fungsi raw_input (input dari keyboard pas runtime)\n",
    "name = input(\"What is your name?\")\n",
    "quest = input(\"What is your quest?\")\n",
    "color = input(\"What is your favorite color?\")\n",
    "print (\"Ah, so your name is %s, your quest is %s, \" \\\n",
    "\"and your favorite color is %s.\" % (name, quest, color))"
   ]
  },
  {
   "cell_type": "code",
   "execution_count": 13,
   "metadata": {},
   "outputs": [
    {
     "name": "stdout",
     "output_type": "stream",
     "text": [
      "2019-09-07 16:57:04.824252\n",
      "2019\n",
      "9\n",
      "7\n",
      "2019-9-7\n",
      "7/9/2019\n",
      "16\n",
      "57\n",
      "4\n",
      "16:57:4\n",
      "7/9/2019 16:57:4\n"
     ]
    }
   ],
   "source": [
    "from datetime import datetime\n",
    "now = datetime.now()\n",
    "print (now)\n",
    "# member, bukan method\n",
    "print (now.year)\n",
    "print (now.month)\n",
    "print (now.day)\n",
    "print ('%s-%s-%s' % (now.year, now.month, now.day))\n",
    "print ('%s/%s/%s' % (now.day, now.month, now.year))\n",
    "print (now.hour)\n",
    "print (now.minute)\n",
    "print (now.second)\n",
    "print ('%s:%s:%s' % (now.hour, now.minute, now.second))\n",
    "print ('%s/%s/%s %s:%s:%s' % (now.day, now.month, now.year,now.hour, now.minute, now.second))"
   ]
  },
  {
   "cell_type": "code",
   "execution_count": 14,
   "metadata": {},
   "outputs": [
    {
     "name": "stdout",
     "output_type": "stream",
     "text": [
      "You've just entered the clinic!\n",
      "Do you take the door on the left or the right?\n",
      "Type left or right and hit 'Enter'.\n",
      "You didn't pick left or right! Try again.\n",
      "You've just entered the clinic!\n",
      "Do you take the door on the left or the right?\n",
      "Type left or right and hit 'Enter'.right\n",
      "Of course this is the Argument Room, I've told you that already!\n"
     ]
    }
   ],
   "source": [
    "def clinic():\n",
    "    print (\"You've just entered the clinic!\")\n",
    "    print (\"Do you take the door on the left or the right?\")\n",
    "    answer = input(\"Type left or right and hit 'Enter'.\").lower()\n",
    "    if answer == \"left\" or answer == \"l\":\n",
    "        print (\"This is the Verbal Abuse Room, you heap of parrot droppings!\")\n",
    "    elif answer == \"right\" or answer == \"r\":\n",
    "        print (\"Of course this is the Argument Room, I've told you that already!\")\n",
    "    else:\n",
    "        print (\"You didn't pick left or right! Try again.\")\n",
    "        clinic()\n",
    "clinic()"
   ]
  },
  {
   "cell_type": "code",
   "execution_count": 15,
   "metadata": {},
   "outputs": [],
   "source": [
    "bool_one = True    # 17 < 328    \n",
    "bool_two = True    # 100 == (2 * 50)\n",
    "bool_three = True  # 19 <= 19 \n",
    "bool_four = False  # -22 >= -18 \n",
    "bool_five = False  # 99 != (98 + 1)\n",
    "bool_one = False   # (20 - 10) > 15\n",
    "bool_two = False   # (10 + 17) == 3**16\n",
    "bool_three = False # 1**2 <= -1\n",
    "bool_four = True   # 40 * 4 >= -4\n",
    "bool_five = False  # 100 != 10**2\n",
    "# -----\n",
    "bool_one = 3 < 5     # True\n",
    "bool_two = 3 > 5     # False\n",
    "bool_three = 5 == 5  # True\n",
    "bool_four = 3 != 3   # False\n",
    "bool_five = 3 <= 3   # True"
   ]
  },
  {
   "cell_type": "code",
   "execution_count": 16,
   "metadata": {},
   "outputs": [],
   "source": [
    "bool_one   = False and False\n",
    "bool_two   = -(-(-(-2))) == -2 and 4 >= 16**0.5\n",
    "bool_three = 19 % 4 != 300 / 10 / 10 and False\n",
    "bool_four  = -(1**2) < 2**0 and 10 % 10 <= 20 - 10 * 2\n",
    "bool_five  = True and True\n",
    "# -----\n",
    "bool_one   = 2**3 == 108 % 100 or 'Cleese' == 'King Arthur'\n",
    "bool_two   = True or False\n",
    "bool_three = 100**0.5 >= 50 or False\n",
    "bool_four  = True or True\n",
    "bool_five  = 1**100 == 100**1 or 3 * 2 * 1 != 3 + 2 + 1"
   ]
  },
  {
   "cell_type": "code",
   "execution_count": 17,
   "metadata": {},
   "outputs": [
    {
     "name": "stdout",
     "output_type": "stream",
     "text": [
      "This is the Verbal Abuse Room, you heap of parrot droppings!\n",
      "Success #1\n",
      "Success #2\n"
     ]
    }
   ],
   "source": [
    "answer = \"Left\"\n",
    "if answer == \"Left\":\n",
    "    print (\"This is the Verbal Abuse Room, you heap of parrot droppings!\")\n",
    "# Will the above print statement print to the console?\n",
    "# ---\n",
    "def using_control_once():\n",
    "    if True:\n",
    "        return \"Success #1\"\n",
    "def using_control_again():\n",
    "    if True:\n",
    "        return \"Success #2\"\n",
    "print (using_control_once())\n",
    "print (using_control_again())"
   ]
  },
  {
   "cell_type": "code",
   "execution_count": 18,
   "metadata": {},
   "outputs": [],
   "source": [
    "answer = \"'Tis but a scratch!\"\n",
    "def black_knight():\n",
    "    if answer == \"'Tis but a scratch!\":\n",
    "        return True\n",
    "    else:             \n",
    "        return False       # Make sure this returns False\n",
    "def french_soldier():\n",
    "    if answer == \"Go away, or I shall taunt you a second time!\":\n",
    "        return True\n",
    "    else:             \n",
    "        return False       # Make sure this returns False"
   ]
  },
  {
   "cell_type": "code",
   "execution_count": 19,
   "metadata": {},
   "outputs": [
    {
     "name": "stdout",
     "output_type": "stream",
     "text": [
      "-1\n",
      "0\n",
      "1\n"
     ]
    }
   ],
   "source": [
    "def greater_less_equal_5(answer):\n",
    "    if answer > 5:\n",
    "        return 1\n",
    "    elif answer < 5:          \n",
    "        return -1\n",
    "    else:\n",
    "        return 0\n",
    "print (greater_less_equal_5(4))\n",
    "print (greater_less_equal_5(5))\n",
    "print (greater_less_equal_5(6))       \n",
    "# review\n",
    "def the_flying_circus():\n",
    "    if 5 == 5:    # Start coding here!\n",
    "        # Don't forget to indent\n",
    "        # the code inside this block!\n",
    "        return True\n",
    "    elif True and True :\n",
    "        # Keep going here.\n",
    "        # You'll want to add the else statement, too!\n",
    "        return False\n",
    "    else :\n",
    "        return False"
   ]
  },
  {
   "cell_type": "code",
   "execution_count": 21,
   "metadata": {},
   "outputs": [
    {
     "name": "stdout",
     "output_type": "stream",
     "text": [
      "Welcome to the Pig Latin Translator!\n",
      "Enter a word:nadia\n",
      "nadia\n"
     ]
    }
   ],
   "source": [
    "print ('Welcome to the Pig Latin Translator!')\n",
    "original = input(\"Enter a word:\")\n",
    "if len(original) > 0 and original.isalpha():\n",
    "    print (original)\n",
    "else:\n",
    "    print (\"empty\")"
   ]
  },
  {
   "cell_type": "code",
   "execution_count": 1,
   "metadata": {},
   "outputs": [
    {
     "name": "stdout",
     "output_type": "stream",
     "text": [
      "Enter a word:nadia\n",
      "adianay\n"
     ]
    }
   ],
   "source": [
    "pyg = 'ay'\n",
    "original = input('Enter a word:')\n",
    "if len(original) > 0 and original.isalpha():\n",
    "    word = original.lower()\n",
    "    first = word[0]\n",
    "    new_word = word + first + pyg\n",
    "    new_word = new_word[1:len(new_word)] \n",
    "    print (new_word)\n",
    "else:\n",
    "    print ('empty')"
   ]
  },
  {
   "cell_type": "code",
   "execution_count": 2,
   "metadata": {},
   "outputs": [
    {
     "name": "stdout",
     "output_type": "stream",
     "text": [
      "With tax: 108.000000\n",
      "With tip: 124.200000\n"
     ]
    }
   ],
   "source": [
    "def tax(bill):\n",
    "    \"\"\"Adds 8% tax to a restaurant bill.\"\"\"\n",
    "    bill *= 1.08\n",
    "    print (\"With tax: %f\" % bill)\n",
    "    return (bill)\n",
    "def tip(bill):\n",
    "    \"\"\"Adds 15% tip to a restaurant bill.\"\"\"\n",
    "    bill *= 1.15\n",
    "    print (\"With tip: %f\" % bill)\n",
    "    return bill\n",
    "meal_cost = 100\n",
    "meal_with_tax = tax(meal_cost)\n",
    "meal_with_tip = tip(meal_with_tax)"
   ]
  },
  {
   "cell_type": "code",
   "execution_count": 3,
   "metadata": {},
   "outputs": [
    {
     "name": "stdout",
     "output_type": "stream",
     "text": [
      "10 squared is 100.\n",
      "37 to the power of 4 is 1874161.\n"
     ]
    }
   ],
   "source": [
    "def square(n):\n",
    "    squared = n**2\n",
    "    print (\"%d squared is %d.\" % (n, squared))\n",
    "    return squared\n",
    "square(10)\n",
    "# ---\n",
    "def power(base, exponent):  # Add your parameters here!\n",
    "    result = base**exponent\n",
    "    print(\"%d to the power of %d is %d.\" % (base, exponent, result))\n",
    "power(37,4)  # Add your arguments here!"
   ]
  },
  {
   "cell_type": "code",
   "execution_count": 4,
   "metadata": {},
   "outputs": [],
   "source": [
    "# Functions call functions\n",
    "def one_good_turn(n):\n",
    "    return n + 1\n",
    "def deserves_another(n):\n",
    "    return one_good_turn(n) + 2\n",
    "# ---\n",
    "def shout(phrase):\n",
    "    if phrase == phrase.upper():\n",
    "        return \"YOU'RE SHOUTING!\"\n",
    "    else:\n",
    "        return \"Can you speak up?\"\n",
    "shout(\"I'M INTERESTED IN SHOUTING\")\n",
    "# ---\n",
    "def cube(number):\n",
    "    return number**3\n",
    "def by_three(number):\n",
    "    if number % 3 == 0:\n",
    "        return cube(number)\n",
    "    else:\n",
    "        return False"
   ]
  },
  {
   "cell_type": "code",
   "execution_count": 5,
   "metadata": {},
   "outputs": [
    {
     "name": "stdout",
     "output_type": "stream",
     "text": [
      "5.0\n",
      "5.0\n",
      "5.0\n",
      "['__doc__', '__loader__', '__name__', '__package__', '__spec__', 'acos', 'acosh', 'asin', 'asinh', 'atan', 'atan2', 'atanh', 'ceil', 'copysign', 'cos', 'cosh', 'degrees', 'e', 'erf', 'erfc', 'exp', 'expm1', 'fabs', 'factorial', 'floor', 'fmod', 'frexp', 'fsum', 'gamma', 'gcd', 'hypot', 'inf', 'isclose', 'isfinite', 'isinf', 'isnan', 'ldexp', 'lgamma', 'log', 'log10', 'log1p', 'log2', 'modf', 'nan', 'pi', 'pow', 'radians', 'remainder', 'sin', 'sinh', 'sqrt', 'tan', 'tanh', 'tau', 'trunc']\n"
     ]
    },
    {
     "data": {
      "text/plain": [
       "\"\\n['__doc__', '__name__', '__package__', 'acos', 'acosh', 'asin', 'asinh', 'atan', 'atan2', 'atanh', 'ceil', 'copysign', 'cos', 'cosh', 'degrees', 'e', 'erf', 'erfc', 'exp', 'expm1', 'fabs', 'factorial', 'floor', 'fmod', 'frexp', 'fsum', 'gamma', 'hypot', 'isinf', 'isnan', 'ldexp', 'lgamma', 'log', 'log10', 'log1p', 'modf', 'pi', 'pow', 'radians', 'sin', 'sinh', 'sqrt', 'tan', 'tanh', 'trunc']\\n\""
      ]
     },
     "execution_count": 5,
     "metadata": {},
     "output_type": "execute_result"
    }
   ],
   "source": [
    "# 1\n",
    "import math\n",
    "print (math.sqrt(25))\n",
    "# 2\n",
    "from math import sqrt\n",
    "print (sqrt(25))\n",
    "from math import *\n",
    "print (sqrt(25))\n",
    "# 3\n",
    "import math            \n",
    "everything = dir(math) # Sets everything to a list of things from math\n",
    "print (everything)       # Prints 'em all!\n",
    "\"\"\"\n",
    "['__doc__', '__name__', '__package__', 'acos', 'acosh', 'asin', 'asinh', 'atan', 'atan2', 'atanh', 'ceil', 'copysign', 'cos', 'cosh', 'degrees', 'e', 'erf', 'erfc', 'exp', 'expm1', 'fabs', 'factorial', 'floor', 'fmod', 'frexp', 'fsum', 'gamma', 'hypot', 'isinf', 'isnan', 'ldexp', 'lgamma', 'log', 'log10', 'log1p', 'modf', 'pi', 'pow', 'radians', 'sin', 'sinh', 'sqrt', 'tan', 'tanh', 'trunc']\n",
    "\"\"\""
   ]
  },
  {
   "cell_type": "code",
   "execution_count": 6,
   "metadata": {},
   "outputs": [
    {
     "name": "stdout",
     "output_type": "stream",
     "text": [
      "10\n",
      "-10\n",
      "10\n",
      "6\n"
     ]
    }
   ],
   "source": [
    "def biggest_number(*args):#args digunakan karena jumlah elemen blm fix,jadi bisa menerima berapa saja\n",
    "    print (max(args))\n",
    "    return max(args)\n",
    "def smallest_number(*args):\n",
    "    print (min(args))\n",
    "    return min(args)\n",
    "def distance_from_zero(arg):\n",
    "    print (abs(arg))\n",
    "    return abs(arg)\n",
    "biggest_number(-10, -5, 5, 10)\n",
    "smallest_number(-10, -5, 5, 10)\n",
    "distance_from_zero(-10)\n",
    "# ---\n",
    "maximum = max(2.3,4.1,6)\n",
    "minimum = min(2.3,4.1,6)\n",
    "absolute = abs(-42)\n",
    "print (maximum)"
   ]
  },
  {
   "cell_type": "code",
   "execution_count": 9,
   "metadata": {},
   "outputs": [
    {
     "name": "stdout",
     "output_type": "stream",
     "text": [
      "<class 'int'>\n",
      "<class 'float'>\n",
      "<class 'str'>\n"
     ]
    },
    {
     "ename": "NameError",
     "evalue": "name 'happy' is not defined",
     "output_type": "error",
     "traceback": [
      "\u001b[1;31m---------------------------------------------------------------------------\u001b[0m",
      "\u001b[1;31mNameError\u001b[0m                                 Traceback (most recent call last)",
      "\u001b[1;32m<ipython-input-9-b22b6e17a01e>\u001b[0m in \u001b[0;36m<module>\u001b[1;34m\u001b[0m\n\u001b[0;32m      5\u001b[0m \u001b[1;32mdef\u001b[0m \u001b[0mspeak\u001b[0m\u001b[1;33m(\u001b[0m\u001b[0mmessage\u001b[0m\u001b[1;33m)\u001b[0m\u001b[1;33m:\u001b[0m\u001b[1;33m\u001b[0m\u001b[1;33m\u001b[0m\u001b[0m\n\u001b[0;32m      6\u001b[0m     \u001b[1;32mreturn\u001b[0m \u001b[0mmessage\u001b[0m\u001b[1;33m\u001b[0m\u001b[1;33m\u001b[0m\u001b[0m\n\u001b[1;32m----> 7\u001b[1;33m \u001b[1;32mif\u001b[0m \u001b[0mhappy\u001b[0m\u001b[1;33m(\u001b[0m\u001b[1;33m)\u001b[0m\u001b[1;33m:\u001b[0m\u001b[1;33m\u001b[0m\u001b[1;33m\u001b[0m\u001b[0m\n\u001b[0m\u001b[0;32m      8\u001b[0m     \u001b[0mspeak\u001b[0m\u001b[1;33m(\u001b[0m\u001b[1;34m\"I'm happy!\"\u001b[0m\u001b[1;33m)\u001b[0m\u001b[1;33m\u001b[0m\u001b[1;33m\u001b[0m\u001b[0m\n\u001b[0;32m      9\u001b[0m \u001b[1;32melif\u001b[0m \u001b[0msad\u001b[0m\u001b[1;33m(\u001b[0m\u001b[1;33m)\u001b[0m\u001b[1;33m:\u001b[0m\u001b[1;33m\u001b[0m\u001b[1;33m\u001b[0m\u001b[0m\n",
      "\u001b[1;31mNameError\u001b[0m: name 'happy' is not defined"
     ]
    }
   ],
   "source": [
    "print (type(42))      #<type 'int'>\n",
    "print (type(4.2))     #<type 'float'>\n",
    "print (type('spam'))  #<type 'str'>\n",
    "# ---\n",
    "def speak(message):\n",
    "    return message\n",
    "if happy(): speak(\"I'm happy!\")\n",
    "elif sad(): speak(\"I'm sad.\")\n",
    "else: speak(\"I don't know what I'm feeling.\")\n",
    "# ---\n",
    "def shut_down(s):\n",
    "    if s==\"yes\": return \"Shutting down\"\n",
    "    elif s==\"no\": return \"Shutdown aborted\"\n",
    "    else: return \"Sorry\""
   ]
  },
  {
   "cell_type": "code",
   "execution_count": 10,
   "metadata": {},
   "outputs": [
    {
     "ename": "SyntaxError",
     "evalue": "invalid syntax (<ipython-input-10-d07a762b73f6>, line 2)",
     "output_type": "error",
     "traceback": [
      "\u001b[1;36m  File \u001b[1;32m\"<ipython-input-10-d07a762b73f6>\"\u001b[1;36m, line \u001b[1;32m2\u001b[0m\n\u001b[1;33m    return type(num) == int or type(num) == float:\u001b[0m\n\u001b[1;37m                                                 ^\u001b[0m\n\u001b[1;31mSyntaxError\u001b[0m\u001b[1;31m:\u001b[0m invalid syntax\n"
     ]
    }
   ],
   "source": [
    "def is_numeric(num):\n",
    "    return type(num) == int or type(num) == float:\n",
    "# ---\n",
    "def distance_from_zero(a):\n",
    "    if type(a)==int or type(a)==float:\n",
    "        return abs(a)\n",
    "    else:\n",
    "        return \"Nope\""
   ]
  },
  {
   "cell_type": "code",
   "execution_count": 12,
   "metadata": {},
   "outputs": [
    {
     "name": "stdout",
     "output_type": "stream",
     "text": [
      "1955\n"
     ]
    }
   ],
   "source": [
    "def hotel_cost(nights): return 140*nights\n",
    "def plane_ride_cost(city):\n",
    "    if city==\"Charlotte\": return 183\n",
    "    elif city==\"Tampa\": return 220\n",
    "    elif city==\"Pittsburgh\": return 222\n",
    "    elif city==\"Los Angeles\": return 475\n",
    "def rental_car_cost(days):\n",
    "    costperday = 40\n",
    "    if days >= 7: total = days * costperday - 50\n",
    "    elif days >=3: total = days * costperday - 20\n",
    "    else: total = days * costperday\n",
    "    return total\n",
    "def trip_cost(city,days,spending_money):\n",
    "    return rental_car_cost(days)+hotel_cost(days)+plane_ride_cost(city)+spending_money\n",
    "print (trip_cost(\"Los Angeles\",5,600))"
   ]
  },
  {
   "cell_type": "code",
   "execution_count": 13,
   "metadata": {},
   "outputs": [
    {
     "name": "stdout",
     "output_type": "stream",
     "text": [
      "The first animal at the zoo is the pangolin\n",
      "The second animal at the zoo is the cassowary\n",
      "The third animal at the zoo is the sloth\n",
      "The fourth animal at the zoo is the gajah\n"
     ]
    }
   ],
   "source": [
    "# list_name = [item_1, item_2], empty []\n",
    "zoo_animals = [\"pangolin\", \"cassowary\", \"sloth\", \"gajah\"];\n",
    "if len(zoo_animals) > 3:\n",
    "    print (\"The first animal at the zoo is the \" + zoo_animals[0])\n",
    "    print (\"The second animal at the zoo is the \" + zoo_animals[1])\n",
    "    print (\"The third animal at the zoo is the \" + zoo_animals[2])\n",
    "    print (\"The fourth animal at the zoo is the \" + zoo_animals[3])"
   ]
  },
  {
   "cell_type": "code",
   "execution_count": 15,
   "metadata": {},
   "outputs": [
    {
     "name": "stdout",
     "output_type": "stream",
     "text": [
      "There are 4 items in the suitcase.\n",
      "['sunglasses', 'a', 'b', 'c']\n"
     ]
    }
   ],
   "source": [
    "suitcase = [] \n",
    "suitcase.append(\"sunglasses\")\n",
    "# Your code here!\n",
    "suitcase.append('a')\n",
    "suitcase.append('b')\n",
    "suitcase.append('c')\n",
    "list_length = len(suitcase) # Set this to the length of suitcase\n",
    "print (\"There are %d items in the suitcase.\" % (list_length))\n",
    "print (suitcase)\n"
   ]
  },
  {
   "cell_type": "code",
   "execution_count": 16,
   "metadata": {},
   "outputs": [],
   "source": [
    "suitcase = [\"sunglasses\", \"hat\", \"passport\", \"laptop\", \"suit\", \"shoes\"]\n",
    "first  = suitcase[0:2]  # The first and second items (index zero and one)\n",
    "middle = suitcase[2:4]  # Third and fourth items (index two and three)\n",
    "last   = suitcase[4:6]  # The last two items (index four and five)\n",
    "# < 6 bukan <= 6\n",
    "# We start at the index before the colon and continue up to but not including the index after the colon.\n",
    "# ---\n",
    "animals = \"catdogfrog\"\n",
    "cat  = animals[:3]   # The first three characters of animals\n",
    "dog  = animals[3:6]   # The fourth through sixth characters\n",
    "frog = animals[6:]   # From the seventh character to the end\n",
    "# tanpa start/end"
   ]
  },
  {
   "cell_type": "code",
   "execution_count": 17,
   "metadata": {},
   "outputs": [
    {
     "name": "stdout",
     "output_type": "stream",
     "text": [
      "['aardvark', 'badger', 'cobra', 'duck', 'emu', 'fennec fox']\n"
     ]
    }
   ],
   "source": [
    "animals = [\"aardvark\", \"badger\", \"duck\", \"emu\", \"fennec fox\"]\n",
    "duck_index = animals.index(\"duck\")   # Use index() to find \"duck\"\n",
    "# Your code here!\n",
    "animals.insert(duck_index,\"cobra\")\n",
    "print (animals) # Observe what prints after the insert operation\n",
    "# ['aardvark', 'badger', 'cobra', 'duck', 'emu', 'fennec fox']"
   ]
  },
  {
   "cell_type": "code",
   "execution_count": 18,
   "metadata": {},
   "outputs": [
    {
     "name": "stdout",
     "output_type": "stream",
     "text": [
      "2\n",
      "18\n",
      "6\n",
      "16\n",
      "10\n",
      "14\n",
      "[1, 4, 9, 16, 25]\n"
     ]
    }
   ],
   "source": [
    "# 1\n",
    "my_list = [1,9,3,8,5,7]\n",
    "for number in my_list: print (2*number)\n",
    "# 2    \n",
    "# .sort\n",
    "start_list = [5, 3, 1, 2, 4]\n",
    "square_list = []\n",
    "for num in start_list:\n",
    "    square_list.append(num**2)\n",
    "square_list.sort()\n",
    "print (square_list)"
   ]
  },
  {
   "cell_type": "code",
   "execution_count": 20,
   "metadata": {},
   "outputs": [
    {
     "name": "stdout",
     "output_type": "stream",
     "text": [
      "104\n",
      "105\n",
      "106\n"
     ]
    }
   ],
   "source": [
    "# dictionary key value notasi object {}\n",
    "residents = {'Puffin' : 104, 'Sloth' : 105, 'Burmese Python' : 106}\n",
    "print (residents['Puffin']) # Prints Puffin's room number\n",
    "# Your code here!\n",
    "print (residents['Sloth'])\n",
    "print (residents['Burmese Python'])"
   ]
  },
  {
   "cell_type": "code",
   "execution_count": 21,
   "metadata": {},
   "outputs": [
    {
     "name": "stdout",
     "output_type": "stream",
     "text": [
      "14.5\n",
      "There are 4 items on the menu.\n",
      "{'Chicken Alfredo': 14.5, 'karedok': 2.2, 'lotek': 2.3, 'rujak': 3.3}\n"
     ]
    },
    {
     "data": {
      "text/plain": [
       "\"\\n14.5\\nThere are 4 items on the menu.\\n{'lotek': 2.3, 'Chicken Alfredo': 14.5, 'karedok': 2.2, 'rujak': 3.3}\\n\""
      ]
     },
     "execution_count": 21,
     "metadata": {},
     "output_type": "execute_result"
    }
   ],
   "source": [
    "menu = {} # Empty dictionary\n",
    "menu['Chicken Alfredo'] = 14.50 # Adding new key-value pair\n",
    "print (menu['Chicken Alfredo'])\n",
    "# append\n",
    "menu['karedok'] = 2.2\n",
    "menu['lotek'] = 2.3\n",
    "menu['rujak'] = 3.3\n",
    "print (\"There are \" + str(len(menu)) + \" items on the menu.\")\n",
    "print (menu)\n",
    "\"\"\"\n",
    "14.5\n",
    "There are 4 items on the menu.\n",
    "{'lotek': 2.3, 'Chicken Alfredo': 14.5, 'karedok': 2.2, 'rujak': 3.3}\n",
    "\"\"\""
   ]
  },
  {
   "cell_type": "code",
   "execution_count": 22,
   "metadata": {},
   "outputs": [
    {
     "name": "stdout",
     "output_type": "stream",
     "text": [
      "{'Atlantic Puffin': 'Arctic Exhibit', 'Rockhopper Penguin': 'Arctic Exhibit Mod'}\n"
     ]
    }
   ],
   "source": [
    "# key - animal_name : value - location \n",
    "zoo_animals = { 'Unicorn' : 'Cotton Candy House',\n",
    "                'Sloth' : 'Rainforest Exhibit',\n",
    "                'Bengal Tiger' : 'Jungle House',\n",
    "                'Atlantic Puffin' : 'Arctic Exhibit',\n",
    "                'Rockhopper Penguin' : 'Arctic Exhibit'}\n",
    "# Removing the 'Unicorn' entry. (Unicorns are incredibly expensive.)\n",
    "del zoo_animals['Unicorn']\n",
    "del zoo_animals['Sloth']\n",
    "del zoo_animals['Bengal Tiger']\n",
    "zoo_animals['Rockhopper Penguin']='Arctic Exhibit Mod'\n",
    "print (zoo_animals)"
   ]
  },
  {
   "cell_type": "code",
   "execution_count": 23,
   "metadata": {},
   "outputs": [
    {
     "name": "stdout",
     "output_type": "stream",
     "text": [
      "{'gold': 550, 'pouch': ['flint', 'gemstone', 'twine'], 'backpack': ['bedroll', 'bread loaf', 'xylophone'], 'burlap bag': ['apple', 'small ruby', 'three-toed sloth'], 'pocket': ['seashell', 'strange berry', 'lint']}\n"
     ]
    }
   ],
   "source": [
    "# remove\n",
    "backpack = ['xylophone', 'dagger', 'tent', 'bread loaf']\n",
    "backpack.remove(\"dagger\")\n",
    "# ---\n",
    "inventory = {\n",
    "     'gold' : 500,\n",
    "     'pouch' : ['flint', 'twine', 'gemstone'], # Assigned a new list to 'pouch' key\n",
    "     'backpack' : ['xylophone','dagger', 'bedroll','bread loaf']\n",
    "}\n",
    "# Adding a key 'burlap bag' and assigning a list to it\n",
    "inventory['burlap bag'] = ['apple', 'small ruby', 'three-toed sloth']\n",
    "# Sorting the list found under the key 'pouch'\n",
    "inventory['pouch'].sort() \n",
    "inventory['pocket']=['seashell','strange berry','lint']\n",
    "inventory['backpack'].sort()\n",
    "inventory['backpack'].remove('dagger')\n",
    "inventory['gold'] += 50\n",
    "\n",
    "print(inventory)"
   ]
  },
  {
   "cell_type": "code",
   "execution_count": 24,
   "metadata": {},
   "outputs": [
    {
     "name": "stdout",
     "output_type": "stream",
     "text": [
      "Adam\n",
      "Alex\n",
      "Mariah\n",
      "Martine\n",
      "Columbus\n",
      "A star of a popular children's cartoon show.\n",
      "The sound a goat makes.\n",
      "Goes on the floor.\n",
      "A small amount.\n"
     ]
    }
   ],
   "source": [
    "names = [\"Adam\",\"Alex\",\"Mariah\",\"Martine\",\"Columbus\"]\n",
    "for item in names: print (item)\n",
    "# ---\n",
    "# indent first element dalam dict dalam {}, spt di bhs lain\n",
    "webster = {\n",
    "     \"Aardvark\" : \"A star of a popular children's cartoon show.\",\n",
    "     \"Baa\" : \"The sound a goat makes.\",\n",
    "     \"Carpet\": \"Goes on the floor.\",\n",
    "     \"Dab\": \"A small amount.\"\n",
    "}\n",
    "for key in webster:\n",
    "    print (webster[key])"
   ]
  },
  {
   "cell_type": "code",
   "execution_count": 26,
   "metadata": {},
   "outputs": [
    {
     "name": "stdout",
     "output_type": "stream",
     "text": [
      "0\n",
      "2\n",
      "4\n",
      "6\n",
      "8\n",
      "10\n",
      "12\n",
      "2\n",
      "2\n"
     ]
    }
   ],
   "source": [
    "a = [0, 1, 2, 3, 4, 5, 6, 7, 8, 9, 10, 11, 12, 13]\n",
    "for number in a: \n",
    "     if number % 2 == 0: print (number)\n",
    "# ---\n",
    "def count_small(numbers):\n",
    "    total = 0\n",
    "    for n in numbers:\n",
    "        if n < 10: total = total + 1\n",
    "    return total\n",
    "lost = [4, 8, 15, 16, 23, 42]\n",
    "small = count_small(lost)\n",
    "print (small)\n",
    "# ---\n",
    "def fizz_count(x):\n",
    "    count = 0\n",
    "    for item in x:\n",
    "        if item == 'fizz': count += 1\n",
    "    return count\n",
    "print (fizz_count([\"fizz\",\"cat\",\"fizz\"]))\n"
   ]
  },
  {
   "cell_type": "code",
   "execution_count": 29,
   "metadata": {},
   "outputs": [
    {
     "name": "stdout",
     "output_type": "stream",
     "text": [
      "C\n",
      "o\n",
      "d\n",
      "e\n",
      "c\n",
      "a\n",
      "d\n",
      "e\n",
      "m\n",
      "y\n",
      "i\n",
      "i\n"
     ]
    }
   ],
   "source": [
    "for letter in \"Codecademy\": print (letter)\n",
    "# Empty lines to make the output pretty\n",
    "word = \"Programming is fun!\"\n",
    "for letter in word:\n",
    "    # Only print out the letter i\n",
    "    if letter == \"i\": print (letter)"
   ]
  },
  {
   "cell_type": "code",
   "execution_count": 30,
   "metadata": {},
   "outputs": [
    {
     "name": "stdout",
     "output_type": "stream",
     "text": [
      "banana\n",
      "price: 4\n",
      "stock: 6\n",
      "apple\n",
      "price: 2\n",
      "stock: 0\n",
      "orange\n",
      "price: 1.5\n",
      "stock: 32\n",
      "pear\n",
      "price: 3\n",
      "stock: 15\n"
     ]
    }
   ],
   "source": [
    "prices = {\n",
    "     \"banana\": 4,\n",
    "\"apple\": 2,\n",
    "  \"orange\": 1.5,\n",
    "\"pear\": 3\n",
    "    }\n",
    "stock = {\n",
    "  \"banana\": 6,\n",
    "  \"apple\": 0,\n",
    "  \"orange\": 32,\n",
    "  \"pear\": 15    \n",
    "}\n",
    "for key in stock:\n",
    "    print (key)\n",
    "    print (\"price: %s\" % prices[key])\n",
    "    print (\"stock: %s\" % stock[key])"
   ]
  },
  {
   "cell_type": "code",
   "execution_count": 32,
   "metadata": {},
   "outputs": [
    {
     "name": "stdout",
     "output_type": "stream",
     "text": [
      "banana\n",
      "price: 4\n",
      "stock: 6\n",
      "apple\n",
      "price: 2\n",
      "stock: 0\n",
      "orange\n",
      "price: 1.5\n",
      "stock: 32\n",
      "pear\n",
      "price: 3\n",
      "stock: 15\n",
      "24\n",
      "0\n",
      "48.0\n",
      "45\n",
      "117.0\n"
     ]
    }
   ],
   "source": [
    "# take 2\n",
    "prices = {\n",
    "    \"banana\" : 4,   \"apple\"  : 2,\n",
    "    \"orange\" : 1.5, \"pear\"   : 3,\n",
    "}\n",
    "stock = {\n",
    "    \"banana\" : 6,   \"apple\"  : 0,\n",
    "    \"orange\" : 32,  \"pear\"   : 15,\n",
    "}\n",
    "for key in prices:\n",
    "    print (key)\n",
    "    print (\"price: %s\" % prices[key])\n",
    "    print (\"stock: %s\" % stock[key])\n",
    "total = 0\n",
    "for key in prices:\n",
    "     print (prices[key]*stock[key])\n",
    "     total += prices[key]*stock[key]\n",
    "print(total)"
   ]
  },
  {
   "cell_type": "code",
   "execution_count": 33,
   "metadata": {},
   "outputs": [],
   "source": [
    "# take 3\n",
    "shopping_list = [\"banana\", \"orange\", \"apple\"]\n",
    "stock = {\n",
    "    \"banana\": 6,   \"apple\": 0,\n",
    "    \"orange\": 32,  \"pear\": 15\n",
    "}\n",
    "prices = {\n",
    "    \"banana\": 4,   \"apple\": 2,\n",
    "    \"orange\": 1.5, \"pear\": 3\n",
    "}\n",
    "def compute_bill(food):\n",
    "    total = 0\n",
    "    for item in food:\n",
    "        if stock[item] > 0:\n",
    "          total += prices[item]\n",
    "          stock[item] -= 1\n",
    "    return total"
   ]
  },
  {
   "cell_type": "code",
   "execution_count": 35,
   "metadata": {},
   "outputs": [
    {
     "name": "stdout",
     "output_type": "stream",
     "text": [
      "Lloyd\n",
      "[90.0, 97.0, 75.0, 92.0]\n",
      "[88.0, 40.0, 94.0]\n",
      "[75.0, 90.0]\n",
      "Alice\n",
      "[100.0, 92.0, 98.0, 100.0]\n",
      "[82.0, 83.0, 91.0]\n",
      "[89.0, 97.0]\n",
      "Tyler\n",
      "[0.0, 87.0, 75.0, 22.0]\n",
      "[0.0, 75.0, 78.0]\n",
      "[100.0, 100.0]\n"
     ]
    }
   ],
   "source": [
    "lloyd = {\n",
    "    \"name\": \"Lloyd\",\n",
    "    \"homework\": [90.0, 97.0, 75.0, 92.0],\n",
    "    \"quizzes\": [88.0, 40.0, 94.0],\n",
    "    \"tests\": [75.0, 90.0]\n",
    "}\n",
    "alice = {\n",
    "    \"name\": \"Alice\", \"homework\": [100.0, 92.0, 98.0, 100.0],\n",
    "    \"quizzes\": [82.0, 83.0, 91.0], \"tests\": [89.0, 97.0]\n",
    "}\n",
    "tyler = {\n",
    "    \"name\": \"Tyler\", \"homework\": [0.0, 87.0, 75.0, 22.0],\n",
    "    \"quizzes\": [0.0, 75.0, 78.0], \"tests\": [100.0, 100.0]\n",
    "}\n",
    "students = [lloyd,alice,tyler]\n",
    "for student in students:\n",
    "    print (student['name'])\n",
    "    print (student['homework'])\n",
    "    print (student['quizzes'])\n",
    "    print (student['tests'] )"
   ]
  },
  {
   "cell_type": "code",
   "execution_count": 36,
   "metadata": {},
   "outputs": [
    {
     "data": {
      "text/plain": [
       "2.5"
      ]
     },
     "execution_count": 36,
     "metadata": {},
     "output_type": "execute_result"
    }
   ],
   "source": [
    "5 / 2\n",
    "# 2\n",
    "5.0 / 2\n",
    "# 2.5\n",
    "float(5) / 2\n",
    "# 2.5 biar jadi float karena int/int"
   ]
  },
  {
   "cell_type": "code",
   "execution_count": 1,
   "metadata": {},
   "outputs": [],
   "source": [
    "lloyd = { \"name\": \"Lloyd\", \"homework\": [90.0, 97.0, 75.0, 92.0],\n",
    "          \"quizzes\": [88.0, 40.0, 94.0], \"tests\": [75.0, 90.0] }\n",
    "alice = { \"name\": \"Alice\", \"homework\": [100.0, 92.0, 98.0, 100.0],\n",
    "          \"quizzes\": [82.0, 83.0, 91.0], \"tests\": [89.0, 97.0] }\n",
    "tyler = { \"name\": \"Tyler\", \"homework\": [0.0, 87.0, 75.0, 22.0],\n",
    "          \"quizzes\": [0.0, 75.0, 78.0], \"tests\": [100.0, 100.0] }\n",
    "# ---\n",
    "def average(numbers):\n",
    "    total = sum(numbers)\n",
    "    total = float(total)\n",
    "    return total/len(numbers)\n",
    "def get_average(student):\n",
    "    homework = average(student['homework'])\n",
    "    quizzes = average(student['quizzes'])\n",
    "    tests = average(student['tests'])\n",
    "    return 0.1*homework + 0.3*quizzes + 0.6*tests\n",
    "def get_letter_grade(score):\n",
    "    if score >= 90: return \"A\"\n",
    "    elif score >= 80: return \"B\"\n",
    "    elif score >= 70: return \"C\"\n",
    "    elif score >=60: return \"D\"\n",
    "    else: return \"F\"\n",
    "def get_class_average(students):\n",
    "    results = []\n",
    "    for student in students: results.append(get_average(student))\n",
    "    return average(results)"
   ]
  },
  {
   "cell_type": "code",
   "execution_count": 4,
   "metadata": {},
   "outputs": [
    {
     "name": "stdout",
     "output_type": "stream",
     "text": [
      "[1, 15, 5, 4]\n",
      "[3, 5]\n"
     ]
    }
   ],
   "source": [
    "n = [1, 3, 5]\n",
    "# Do your multiplication here\n",
    "n[1] *= 5\n",
    "n.append(4)\n",
    "print(n)\n",
    "# [1, 15, 5, 4]\n",
    "n = [1, 3, 5]\n",
    "# Remove the first item in the list here\n",
    "n.pop(0) \n",
    "# atau del(n[0]) \n",
    "# n.remove(1) value 1, bukan index\n",
    "# pop nge-return value, del void\n",
    "print(n)"
   ]
  },
  {
   "cell_type": "code",
   "execution_count": 5,
   "metadata": {},
   "outputs": [
    {
     "name": "stdout",
     "output_type": "stream",
     "text": [
      "Hello world\n",
      "[3, 8, 7]\n",
      "[3, 5, 7, 9]\n"
     ]
    }
   ],
   "source": [
    "# 1\n",
    "n = \"Hello\"\n",
    "def string_function(s):\n",
    "    return s+' world'\n",
    "print (string_function(n))\n",
    "# 2\n",
    "def list_function(x):\n",
    "    x[1]+=3\n",
    "    return x\n",
    "n = [3, 5, 7]\n",
    "print (list_function(n))\n",
    "# 3\n",
    "n = [3, 5, 7]\n",
    "def list_extender(lst):\n",
    "    lst.append(9);\n",
    "    return lst\n",
    "print (list_extender(n))"
   ]
  },
  {
   "cell_type": "code",
   "execution_count": 6,
   "metadata": {},
   "outputs": [
    {
     "name": "stdout",
     "output_type": "stream",
     "text": [
      "3\n",
      "5\n",
      "7\n",
      "[6, 10, 14]\n"
     ]
    }
   ],
   "source": [
    "# 1 range\n",
    "n = [3, 5, 7]\n",
    "def print_list(x):\n",
    "  for i in range(0, len(x)):\n",
    "    print (x[i])\n",
    "print_list(n)\n",
    "# each line: 3 5 7\n",
    "# 2\n",
    "n = [3, 5, 7]\n",
    "def double_list(x):\n",
    "  for i in range(0, len(x)):\n",
    "    x[i] = x[i] * 2\n",
    "  return x\n",
    "print (double_list(n))\n",
    "# [6, 10, 14]"
   ]
  },
  {
   "cell_type": "code",
   "execution_count": 17,
   "metadata": {},
   "outputs": [
    {
     "ename": "TypeError",
     "evalue": "'range' object does not support item assignment",
     "output_type": "error",
     "traceback": [
      "\u001b[1;31m---------------------------------------------------------------------------\u001b[0m",
      "\u001b[1;31mTypeError\u001b[0m                                 Traceback (most recent call last)",
      "\u001b[1;32m<ipython-input-17-c1139390c902>\u001b[0m in \u001b[0;36m<module>\u001b[1;34m\u001b[0m\n\u001b[0;32m     11\u001b[0m     \u001b[1;32mreturn\u001b[0m \u001b[0mx\u001b[0m\u001b[1;33m\u001b[0m\u001b[1;33m\u001b[0m\u001b[0m\n\u001b[0;32m     12\u001b[0m \u001b[1;33m\u001b[0m\u001b[0m\n\u001b[1;32m---> 13\u001b[1;33m \u001b[0mprint\u001b[0m \u001b[1;33m(\u001b[0m\u001b[0mmy_function\u001b[0m\u001b[1;33m(\u001b[0m\u001b[0mrange\u001b[0m\u001b[1;33m(\u001b[0m\u001b[1;36m2\u001b[0m\u001b[1;33m)\u001b[0m\u001b[1;33m)\u001b[0m\u001b[1;33m)\u001b[0m\u001b[1;33m\u001b[0m\u001b[1;33m\u001b[0m\u001b[0m\n\u001b[0m",
      "\u001b[1;32m<ipython-input-17-c1139390c902>\u001b[0m in \u001b[0;36mmy_function\u001b[1;34m(x)\u001b[0m\n\u001b[0;32m      8\u001b[0m \u001b[1;32mdef\u001b[0m \u001b[0mmy_function\u001b[0m\u001b[1;33m(\u001b[0m\u001b[0mx\u001b[0m\u001b[1;33m)\u001b[0m\u001b[1;33m:\u001b[0m\u001b[1;33m\u001b[0m\u001b[1;33m\u001b[0m\u001b[0m\n\u001b[0;32m      9\u001b[0m     \u001b[1;32mfor\u001b[0m \u001b[0mi\u001b[0m \u001b[1;32min\u001b[0m \u001b[0mrange\u001b[0m\u001b[1;33m(\u001b[0m\u001b[1;36m0\u001b[0m\u001b[1;33m,\u001b[0m \u001b[0mlen\u001b[0m\u001b[1;33m(\u001b[0m\u001b[0mx\u001b[0m\u001b[1;33m)\u001b[0m\u001b[1;33m)\u001b[0m\u001b[1;33m:\u001b[0m\u001b[1;33m\u001b[0m\u001b[1;33m\u001b[0m\u001b[0m\n\u001b[1;32m---> 10\u001b[1;33m         \u001b[0mx\u001b[0m\u001b[1;33m[\u001b[0m\u001b[0mi\u001b[0m\u001b[1;33m]\u001b[0m \u001b[1;33m=\u001b[0m \u001b[0mx\u001b[0m\u001b[1;33m[\u001b[0m\u001b[0mi\u001b[0m\u001b[1;33m]\u001b[0m\u001b[1;33m*\u001b[0m\u001b[1;36m2\u001b[0m\u001b[1;33m\u001b[0m\u001b[1;33m\u001b[0m\u001b[0m\n\u001b[0m\u001b[0;32m     11\u001b[0m     \u001b[1;32mreturn\u001b[0m \u001b[0mx\u001b[0m\u001b[1;33m\u001b[0m\u001b[1;33m\u001b[0m\u001b[0m\n\u001b[0;32m     12\u001b[0m \u001b[1;33m\u001b[0m\u001b[0m\n",
      "\u001b[1;31mTypeError\u001b[0m: 'range' object does not support item assignment"
     ]
    }
   ],
   "source": [
    "# 3\n",
    "range(6) # => [0,1,2,3,4,5]\n",
    "range(1,6) # => [1,2,3,4,5]\n",
    "range(1,6,3) # => [1,4]\n",
    "# range(stop)\n",
    "# range(start, stop)\n",
    "# range(start, stop, step)\n",
    "def my_function(x):\n",
    "    for i in range(0, len(x)):\n",
    "        x[i] = x[i]*2\n",
    "    return x\n",
    "\n",
    "print (my_function(range(3)))"
   ]
  },
  {
   "cell_type": "code",
   "execution_count": 18,
   "metadata": {},
   "outputs": [
    {
     "name": "stdout",
     "output_type": "stream",
     "text": [
      "MichaelLieberman\n"
     ]
    }
   ],
   "source": [
    "n = [3, 5, 7]\n",
    "def total(numbers):\n",
    "    result = 0\n",
    "    for num in numbers: #for i in range(len(numbers)):\n",
    "        result += num   #result += numbers[i]\n",
    "    return result\n",
    "# 2    \n",
    "n = [\"Michael\", \"Lieberman\"]\n",
    "def join_strings(words):\n",
    "    result = \"\"\n",
    "    for item in words:\n",
    "        result += item\n",
    "    return result\n",
    "print (join_strings(n))"
   ]
  },
  {
   "cell_type": "code",
   "execution_count": 19,
   "metadata": {},
   "outputs": [
    {
     "name": "stdout",
     "output_type": "stream",
     "text": [
      "[1, 2, 3, 4, 5, 6]\n",
      "[1, 2, 3, 4, 5, 6, 7, 8, 9]\n"
     ]
    }
   ],
   "source": [
    "# 3 operator + agak beda di python buat list\n",
    "m = [1, 2, 3]\n",
    "n = [4, 5, 6]\n",
    "def join_lists(x,y): return x + y\n",
    "print (join_lists(m, n))\n",
    "# [1, 2, 3, 4, 5, 6]\n",
    "# 4 List of Lists\n",
    "n = [[1, 2, 3], [4, 5, 6, 7, 8, 9]]\n",
    "def flatten(lists):\n",
    "    results=[]\n",
    "    for numbers in lists:\n",
    "        for num in numbers: results.append(num)\n",
    "    return results\n",
    "print (flatten(n))\n",
    "# [1, 2, 3, 4, 5, 6, 7, 8, 9]"
   ]
  },
  {
   "cell_type": "code",
   "execution_count": 21,
   "metadata": {},
   "outputs": [
    {
     "ename": "SyntaxError",
     "evalue": "invalid syntax (<ipython-input-21-05390d6563ad>, line 15)",
     "output_type": "error",
     "traceback": [
      "\u001b[1;36m  File \u001b[1;32m\"<ipython-input-21-05390d6563ad>\"\u001b[1;36m, line \u001b[1;32m15\u001b[0m\n\u001b[1;33m    for row in board: (print join(row))\u001b[0m\n\u001b[1;37m                                ^\u001b[0m\n\u001b[1;31mSyntaxError\u001b[0m\u001b[1;31m:\u001b[0m invalid syntax\n"
     ]
    }
   ],
   "source": [
    "# tambah elemen berulang pd list\n",
    "board = []\n",
    "for i in range(5):\n",
    "    board.append([\"O\"]*5) #[\"O\",\"O\",\"O\",\"O\",\"O\"]\n",
    "print (board) #[[],..,[]]\n",
    "# print 1 row elemen, 1 baris\n",
    "def print_board(board):\n",
    "    for row in board: print (row)\n",
    "print_board(board)\n",
    "# .join method uses the string to combine the items in the list.\n",
    "from random import randint\n",
    "board = []\n",
    "for x in range(5): board.append([\"O\"] * 5)\n",
    "def print_board(board):\n",
    "    for row in board: (print \" \".join(row))\n",
    "print (\"Let's play Battleship!\")\n",
    "print_board(board)\n",
    "# ---\n",
    "def random_row(board): return randint(0, len(board) - 1)\n",
    "def random_col(board): return randint(0, len(board[0]) - 1)\n",
    "ship_row = random_row(board)\n",
    "ship_col = random_col(board)\n",
    "#print ship_row\n",
    "#print ship_col\n",
    "# Multi line if condition, guess_row not in range(5)\n",
    "for turn in range(4):\n",
    "  print (\"Turn\"), turn + 1\n",
    "  guess_row = int(raw_input(\"Guess Row:\"))\n",
    "  guess_col = int(raw_input(\"Guess Col:\"))\n",
    "  if guess_row == ship_row and guess_col == ship_col:\n",
    "    print (\"Congratulations! You sank my battleship!\")\n",
    "    break\n",
    "  else:\n",
    "    if (guess_row < 0 or guess_row > 4) or \\\n",
    "    (guess_col < 0 or   guess_col > 4):\n",
    "        print (\"Oops, that's not even in the ocean.\")\n",
    "    elif(board[guess_row][guess_col] == \"X\"):\n",
    "        print (\"You guessed that one already.\")\n",
    "    else:\n",
    "        print (\"You missed my battleship!\")\n",
    "        board[guess_row][guess_col] = \"X\"\n",
    "        print_board(board)\n",
    "    if turn == 3:\n",
    "        print (\"Game Over\")"
   ]
  },
  {
   "cell_type": "code",
   "execution_count": 22,
   "metadata": {},
   "outputs": [
    {
     "name": "stdout",
     "output_type": "stream",
     "text": [
      "Hello, I am an if statement and count is 0\n",
      "Hello, I am a while and count is 0\n",
      "Hello, I am a while and count is 1\n",
      "Hello, I am a while and count is 2\n",
      "Hello, I am a while and count is 3\n",
      "Hello, I am a while and count is 4\n",
      "Hello, I am a while and count is 5\n",
      "Hello, I am a while and count is 6\n",
      "Hello, I am a while and count is 7\n",
      "Hello, I am a while and count is 8\n",
      "Hello, I am a while and count is 9\n",
      "I am a loop\n",
      "1\n",
      "4\n",
      "9\n",
      "16\n",
      "25\n",
      "36\n",
      "49\n",
      "64\n",
      "81\n",
      "100\n"
     ]
    }
   ],
   "source": [
    "# 1 \n",
    "count = 0\n",
    "if count < 5:\n",
    "    print (\"Hello, I am an if statement and count is\", count)\n",
    "while count <= 9:\n",
    "    print (\"Hello, I am a while and count is\", count)\n",
    "    count += 1\n",
    "# ---\n",
    "# 2 \n",
    "loop_condition = True\n",
    "while loop_condition:\n",
    "    print (\"I am a loop\")\n",
    "    loop_condition = False\n",
    "# ---\n",
    "# 3 \n",
    "num = 1\n",
    "while num <= 10:  # Fill in the condition\n",
    "    print (num ** 2)\n",
    "    num += 1"
   ]
  },
  {
   "cell_type": "code",
   "execution_count": 24,
   "metadata": {},
   "outputs": [
    {
     "name": "stdout",
     "output_type": "stream",
     "text": [
      "Enjoying the course? (y/n)y\n",
      "0\n",
      "1\n",
      "2\n",
      "3\n",
      "4\n",
      "5\n",
      "6\n",
      "7\n",
      "8\n",
      "9\n"
     ]
    }
   ],
   "source": [
    "# ---\n",
    "# 4 \n",
    "choice = input('Enjoying the course? (y/n)')\n",
    "while choice != 'y' and choice != 'n':  \n",
    "    choice = input(\"Sorry, I didn't catch that. Enter again: \")\n",
    "# ---\n",
    "# 5 break\n",
    "count = 0\n",
    "while True:\n",
    "    print (count)\n",
    "    count += 1\n",
    "    if count >= 10:\n",
    "        break\n",
    "# ---"
   ]
  },
  {
   "cell_type": "code",
   "execution_count": 27,
   "metadata": {},
   "outputs": [
    {
     "name": "stdout",
     "output_type": "stream",
     "text": [
      "Lucky Numbers! 3 numbers will be generated.\n",
      "If one of them is a '5', you lose!\n",
      "3\n",
      "3\n",
      "1\n",
      "You win!\n"
     ]
    }
   ],
   "source": [
    "# 6 while else\n",
    "import random\n",
    "print (\"Lucky Numbers! 3 numbers will be generated.\")\n",
    "print (\"If one of them is a '5', you lose!\")\n",
    "count = 0\n",
    "while count < 3:\n",
    "    num = random.randint(1, 4)\n",
    "    print (num)\n",
    "    if num == 5:\n",
    "        print (\"Sorry, you lose!\")\n",
    "        break\n",
    "    count += 1\n",
    "else:\n",
    "    print (\"You win!\")\n",
    "#else dieksekusi setelah kondisi false; tdk pernah dieksekusi setelah break\n",
    "# ---"
   ]
  },
  {
   "cell_type": "code",
   "execution_count": 31,
   "metadata": {},
   "outputs": [
    {
     "name": "stdout",
     "output_type": "stream",
     "text": [
      "Your guess: 15\n",
      "Your guess: 90\n",
      "Your guess: 00\n",
      "You lose.\n"
     ]
    }
   ],
   "source": [
    "# 7\n",
    "from random import randint\n",
    "# Generates a number from 1 through 10 inclusive\n",
    "random_number = randint(1, 10)\n",
    "guesses_left = 3\n",
    "while guesses_left > 0:\n",
    "    guess = int(input(\"Your guess: \"))\n",
    "    if guess == random_number:\n",
    "        print ('You win!')\n",
    "        break\n",
    "    guesses_left -=1\n",
    "else:\n",
    "    print ('You lose.')"
   ]
  },
  {
   "cell_type": "code",
   "execution_count": 33,
   "metadata": {},
   "outputs": [
    {
     "name": "stdout",
     "output_type": "stream",
     "text": [
      "Your hobby: reading\n",
      "Your hobby: sleeping\n",
      "Your hobby: eating\n",
      "s\n",
      "p\n",
      "a\n",
      "m\n",
      "!\n",
      "e\n",
      "g\n",
      "g\n",
      "s\n",
      "!\n"
     ]
    }
   ],
   "source": [
    " 1\n",
    "hobbies = []\n",
    "# Add your code below!\n",
    "for i in range(3):\n",
    "    hobby = str(input(\"Your hobby: \"))\n",
    "    hobbies.append(hobby);\n",
    "# ---\n",
    "# 2\n",
    "thing = \"spam!\"\n",
    "for c in thing: print (c)\n",
    "word = \"eggs!\"\n",
    "for c in word: print (c)"
   ]
  },
  {
   "cell_type": "code",
   "execution_count": 35,
   "metadata": {},
   "outputs": [
    {
     "name": "stdout",
     "output_type": "stream",
     "text": [
      "X\n",
      " \n",
      "b\n",
      "i\n",
      "r\n",
      "d\n",
      " \n",
      "i\n",
      "n\n",
      " \n",
      "t\n",
      "h\n",
      "e\n",
      " \n",
      "h\n",
      "X\n",
      "n\n",
      "d\n",
      ".\n",
      ".\n",
      ".\n",
      "a apple\n",
      "b berry\n",
      "c cherry\n"
     ]
    }
   ],
   "source": [
    "# 3\n",
    "phrase = \"A bird in the hand...\"\n",
    "for char in phrase:\n",
    "    if char == \"A\" or char ==\"a\":\n",
    "        print (\"X\"),\n",
    "    else:\n",
    "        print (char),\n",
    "print\n",
    "# The , character after our print statement means that \n",
    "# our next print statement keeps printing on the same line. \n",
    "# plus 1 space\n",
    "# ---\n",
    "# 4 Looping over a dictionary\n",
    "d = {'a': 'apple', 'b': 'berry', 'c': 'cherry'}\n",
    "for key in d:\n",
    "    print (key + \" \" + d[key])"
   ]
  },
  {
   "cell_type": "code",
   "execution_count": 36,
   "metadata": {},
   "outputs": [
    {
     "name": "stdout",
     "output_type": "stream",
     "text": [
      "Your choices are:\n",
      "1 pizza\n",
      "2 pasta\n",
      "3 salad\n",
      "4 nachos\n",
      "3\n",
      "9\n",
      "17\n",
      "15\n",
      "30\n"
     ]
    }
   ],
   "source": [
    "# 5 \n",
    "choices = ['pizza', 'pasta', 'salad', 'nachos']\n",
    "print ('Your choices are:')\n",
    "for index, item in enumerate(choices):\n",
    "    print (index+1, item)\n",
    "# ---\n",
    "# 6 \n",
    "list_a = [3, 9, 17, 15, 19]\n",
    "list_b = [2, 4, 8, 10, 30, 40, 50, 60, 70, 80, 90]\n",
    "for a, b in zip(list_a, list_b):\n",
    "    # Add your code here!\n",
    "    if a > b:\n",
    "        print (a)\n",
    "    else:\n",
    "        print (b)\n",
    "# zip will create pairs of elements when passed two lists, \n",
    "# and will stop at the end of the shorter list.\n",
    "# zip can handle three or more lists as well!"
   ]
  },
  {
   "cell_type": "code",
   "execution_count": 37,
   "metadata": {},
   "outputs": [
    {
     "name": "stdout",
     "output_type": "stream",
     "text": [
      "You have...\n",
      "A banana\n",
      "A apple\n",
      "A orange\n",
      "A tomato is not a fruit!\n"
     ]
    }
   ],
   "source": [
    "# 7 \n",
    "fruits = ['banana', 'apple', 'orange', 'tomato', 'pear', 'grape']\n",
    "print ('You have...')\n",
    "for f in fruits:\n",
    "    if f == 'tomato':\n",
    "        print ('A tomato is not a fruit!') # (It actually is.)\n",
    "        break\n",
    "    print ('A', f)\n",
    "else:\n",
    "    print ('A fine selection of fruits!')\n",
    "# spt else while, kl break tidak dirun, kl exit normal yes\n",
    "# ---"
   ]
  },
  {
   "cell_type": "code",
   "execution_count": 39,
   "metadata": {},
   "outputs": [
    {
     "name": "stdout",
     "output_type": "stream",
     "text": [
      "You have...\n",
      "A banana\n",
      "A apple\n",
      "A orange\n",
      "A tomato\n",
      "A pear\n",
      "A grape\n",
      "A fine selection of fruits!\n",
      "a\n",
      "b\n",
      "c\n",
      "completed!\n"
     ]
    }
   ],
   "source": [
    "# 8\n",
    "fruits = ['banana', 'apple', 'orange', 'tomato', 'pear', 'grape']\n",
    "print ('You have...')\n",
    "for f in fruits:\n",
    "    if f == 'tomato1': # kl match, executed; else never\n",
    "        print ('A tomato is not a fruit!') \n",
    "        break\n",
    "    print ('A', f)\n",
    "else:\n",
    "    print ('A fine selection of fruits!')\n",
    "# ---\n",
    "# 9\n",
    "thelist = ['a','b','c']\n",
    "for i in thelist:\n",
    "    print (i)\n",
    "else:\n",
    "    print ('completed!')"
   ]
  },
  {
   "cell_type": "code",
   "execution_count": 40,
   "metadata": {},
   "outputs": [
    {
     "name": "stdout",
     "output_type": "stream",
     "text": [
      "True\n",
      "False\n",
      "False\n"
     ]
    }
   ],
   "source": [
    "# 1\n",
    "def is_even(x):\n",
    "    if x % 2 == 0 : return True\n",
    "    else: return False\n",
    "# ---\n",
    "# 2        \n",
    "def is_int(x):\n",
    "    delta = x - int(x)\n",
    "    if delta == 0.0: return True\n",
    "    else: return False\n",
    "print (is_int(7.0))\n",
    "print (is_int(7.9))\n",
    "print (is_int(-1.2))"
   ]
  },
  {
   "cell_type": "code",
   "execution_count": 41,
   "metadata": {},
   "outputs": [
    {
     "name": "stdout",
     "output_type": "stream",
     "text": [
      "10\n",
      "24\n"
     ]
    }
   ],
   "source": [
    "# ---\n",
    "# 3 cast ke str, cast ke int       \n",
    "def digit_sum(n):\n",
    "    dsum = 0\n",
    "    n_str = str(n)\n",
    "    for c in n_str: dsum += int(c)\n",
    "    return dsum\n",
    "print (digit_sum(1234))\n",
    "# ---\n",
    "# 4 rekursif\n",
    "def factorial(x):\n",
    "    if x==1: return 1\n",
    "    else: return x*factorial(x-1)\n",
    "print (factorial(4))"
   ]
  },
  {
   "cell_type": "code",
   "execution_count": 42,
   "metadata": {},
   "outputs": [
    {
     "name": "stdout",
     "output_type": "stream",
     "text": [
      "False\n",
      "True\n",
      "fed@cba\n"
     ]
    }
   ],
   "source": [
    "# 5\n",
    "def is_prime(x):\n",
    "    if x < 2 : return False\n",
    "    for n in range(x-2):\n",
    "        if x % (n+2) == 0: return False\n",
    "    return True\n",
    "print (is_prime(9))\n",
    "print (is_prime(11))\n",
    "# ---\n",
    "# 6\n",
    "def reverse(text):\n",
    "    varlength = len(text)\n",
    "    textrev = \"\"\n",
    "    for i in range(varlength): textrev += text[varlength-1-i]\n",
    "    return textrev\n",
    "print (reverse('abc@def'))\n",
    "# You may not use reversed or [::-1] to help you with this.\n",
    "# ---"
   ]
  },
  {
   "cell_type": "code",
   "execution_count": 43,
   "metadata": {},
   "outputs": [
    {
     "name": "stdout",
     "output_type": "stream",
     "text": [
      "Hy Y!\n",
      "15\n"
     ]
    }
   ],
   "source": [
    "# 7\n",
    "def anti_vowel(text):\n",
    "    rettext = \"\"\n",
    "    for c in text:\n",
    "        clower=c.lower()\n",
    "        if clower != 'a' and clower != 'e' and clower != 'i' and clower != 'o' and \\\n",
    "        clower != 'u': rettext += c\n",
    "    return rettext\n",
    "print (anti_vowel(\"Hey You!\"))\n",
    "# ---\n",
    "score = {\"a\": 1, \"c\": 3, \"b\": 3, \"e\": 1, \"d\": 2, \"g\": 2, \"f\": 4, \"i\": 1, \"h\": 4, \"k\": 5, \"j\": 8, \"m\": 3, \"l\": 1, \"o\": 1, \"n\": 1, \"q\": 10, \"p\": 3, \"s\": 1, \"r\": 1, \"u\": 1, \"t\": 1, \"w\": 4, \"v\": 4, \"y\": 4, \"x\": 8, \"z\": 10}\n",
    "def scrabble_score(word):\n",
    "    wordlower = word.lower()\n",
    "    retscore = 0\n",
    "    for c in wordlower:\n",
    "        for key in score:\n",
    "          if key == c:\n",
    "              retscore += score[key]\n",
    "              break\n",
    "    return retscore\n",
    "print (scrabble_score(\"Helix\"))"
   ]
  },
  {
   "cell_type": "code",
   "execution_count": 44,
   "metadata": {},
   "outputs": [
    {
     "name": "stdout",
     "output_type": "stream",
     "text": [
      "this **** is wack ****\n",
      "3\n"
     ]
    }
   ],
   "source": [
    "# 8\n",
    "def censor(text,word):\n",
    "    textlist = text.split()\n",
    "    textlist_new = []\n",
    "    for item in textlist:\n",
    "        if item != word:\n",
    "            textlist_new.append(item)\n",
    "        else:\n",
    "            textlist_new.append(\"*\" * len(item))\n",
    "    return \" \".join(textlist_new)\n",
    "print (censor(\"this hack is wack hack\", \"hack\"))\n",
    "# ---\n",
    "# 9\n",
    "def count(sequence,item):\n",
    "    varcount = 0\n",
    "    for i in sequence:\n",
    "        if i == item: varcount += 1\n",
    "    return varcount\n",
    "print (count([1,2,1,1], 1))"
   ]
  },
  {
   "cell_type": "code",
   "execution_count": 45,
   "metadata": {},
   "outputs": [
    {
     "name": "stdout",
     "output_type": "stream",
     "text": [
      "[2]\n",
      "100\n"
     ]
    }
   ],
   "source": [
    "# 10\n",
    "def purify(numbers):\n",
    "    retnumbers = []\n",
    "    for num in numbers:\n",
    "        if num % 2 == 0: retnumbers.append(num)\n",
    "    return retnumbers\n",
    "print (purify([1,2,3]))\n",
    "# ---\n",
    "# 11\n",
    "def product(numlist):\n",
    "    res = 1\n",
    "    for num in numlist: res *= num\n",
    "    return res\n",
    "print (product([4, 5, 5]))"
   ]
  },
  {
   "cell_type": "code",
   "execution_count": 46,
   "metadata": {},
   "outputs": [
    {
     "name": "stdout",
     "output_type": "stream",
     "text": [
      "[1, 2]\n"
     ]
    },
    {
     "ename": "TypeError",
     "evalue": "list indices must be integers or slices, not float",
     "output_type": "error",
     "traceback": [
      "\u001b[1;31m---------------------------------------------------------------------------\u001b[0m",
      "\u001b[1;31mTypeError\u001b[0m                                 Traceback (most recent call last)",
      "\u001b[1;32m<ipython-input-46-0d2f19ed3c24>\u001b[0m in \u001b[0;36m<module>\u001b[1;34m\u001b[0m\n\u001b[0;32m     18\u001b[0m     \u001b[1;32melse\u001b[0m\u001b[1;33m:\u001b[0m\u001b[1;33m\u001b[0m\u001b[1;33m\u001b[0m\u001b[0m\n\u001b[0;32m     19\u001b[0m         \u001b[1;32mreturn\u001b[0m \u001b[1;33m(\u001b[0m\u001b[0msortedlist\u001b[0m\u001b[1;33m[\u001b[0m\u001b[0mlength\u001b[0m\u001b[1;33m/\u001b[0m\u001b[1;36m2\u001b[0m \u001b[1;33m-\u001b[0m \u001b[1;36m1\u001b[0m\u001b[1;33m]\u001b[0m \u001b[1;33m+\u001b[0m \u001b[0msortedlist\u001b[0m\u001b[1;33m[\u001b[0m\u001b[0mlength\u001b[0m\u001b[1;33m/\u001b[0m\u001b[1;36m2\u001b[0m\u001b[1;33m]\u001b[0m\u001b[1;33m)\u001b[0m\u001b[1;33m/\u001b[0m\u001b[1;36m2.0\u001b[0m\u001b[1;33m\u001b[0m\u001b[1;33m\u001b[0m\u001b[0m\n\u001b[1;32m---> 20\u001b[1;33m \u001b[0mprint\u001b[0m \u001b[1;33m(\u001b[0m\u001b[0mmedian\u001b[0m\u001b[1;33m(\u001b[0m\u001b[1;33m[\u001b[0m\u001b[1;36m1\u001b[0m\u001b[1;33m,\u001b[0m\u001b[1;36m1\u001b[0m\u001b[1;33m,\u001b[0m\u001b[1;36m2\u001b[0m\u001b[1;33m]\u001b[0m\u001b[1;33m)\u001b[0m\u001b[1;33m)\u001b[0m   \u001b[1;31m# 1\u001b[0m\u001b[1;33m\u001b[0m\u001b[1;33m\u001b[0m\u001b[0m\n\u001b[0m\u001b[0;32m     21\u001b[0m \u001b[0mprint\u001b[0m \u001b[1;33m(\u001b[0m\u001b[0mmedian\u001b[0m\u001b[1;33m(\u001b[0m\u001b[1;33m[\u001b[0m\u001b[1;36m7\u001b[0m\u001b[1;33m,\u001b[0m\u001b[1;36m3\u001b[0m\u001b[1;33m,\u001b[0m\u001b[1;36m1\u001b[0m\u001b[1;33m,\u001b[0m\u001b[1;36m4\u001b[0m\u001b[1;33m]\u001b[0m\u001b[1;33m)\u001b[0m\u001b[1;33m)\u001b[0m \u001b[1;31m# 3.5\u001b[0m\u001b[1;33m\u001b[0m\u001b[1;33m\u001b[0m\u001b[0m\n",
      "\u001b[1;32m<ipython-input-46-0d2f19ed3c24>\u001b[0m in \u001b[0;36mmedian\u001b[1;34m(varlist)\u001b[0m\n\u001b[0;32m     15\u001b[0m     \u001b[0mlength\u001b[0m \u001b[1;33m=\u001b[0m \u001b[0mlen\u001b[0m\u001b[1;33m(\u001b[0m\u001b[0mvarlist\u001b[0m\u001b[1;33m)\u001b[0m\u001b[1;33m\u001b[0m\u001b[1;33m\u001b[0m\u001b[0m\n\u001b[0;32m     16\u001b[0m     \u001b[1;32mif\u001b[0m \u001b[0mlength\u001b[0m \u001b[1;33m%\u001b[0m \u001b[1;36m2\u001b[0m \u001b[1;33m==\u001b[0m \u001b[1;36m1\u001b[0m\u001b[1;33m:\u001b[0m\u001b[1;33m\u001b[0m\u001b[1;33m\u001b[0m\u001b[0m\n\u001b[1;32m---> 17\u001b[1;33m         \u001b[1;32mreturn\u001b[0m \u001b[0msortedlist\u001b[0m\u001b[1;33m[\u001b[0m \u001b[1;33m(\u001b[0m\u001b[1;33m(\u001b[0m\u001b[0mlength\u001b[0m\u001b[1;33m+\u001b[0m\u001b[1;36m1\u001b[0m\u001b[1;33m)\u001b[0m \u001b[1;33m/\u001b[0m \u001b[1;36m2\u001b[0m \u001b[1;33m-\u001b[0m \u001b[1;36m1\u001b[0m\u001b[1;33m)\u001b[0m \u001b[1;33m]\u001b[0m\u001b[1;33m\u001b[0m\u001b[1;33m\u001b[0m\u001b[0m\n\u001b[0m\u001b[0;32m     18\u001b[0m     \u001b[1;32melse\u001b[0m\u001b[1;33m:\u001b[0m\u001b[1;33m\u001b[0m\u001b[1;33m\u001b[0m\u001b[0m\n\u001b[0;32m     19\u001b[0m         \u001b[1;32mreturn\u001b[0m \u001b[1;33m(\u001b[0m\u001b[0msortedlist\u001b[0m\u001b[1;33m[\u001b[0m\u001b[0mlength\u001b[0m\u001b[1;33m/\u001b[0m\u001b[1;36m2\u001b[0m \u001b[1;33m-\u001b[0m \u001b[1;36m1\u001b[0m\u001b[1;33m]\u001b[0m \u001b[1;33m+\u001b[0m \u001b[0msortedlist\u001b[0m\u001b[1;33m[\u001b[0m\u001b[0mlength\u001b[0m\u001b[1;33m/\u001b[0m\u001b[1;36m2\u001b[0m\u001b[1;33m]\u001b[0m\u001b[1;33m)\u001b[0m\u001b[1;33m/\u001b[0m\u001b[1;36m2.0\u001b[0m\u001b[1;33m\u001b[0m\u001b[1;33m\u001b[0m\u001b[0m\n",
      "\u001b[1;31mTypeError\u001b[0m: list indices must be integers or slices, not float"
     ]
    }
   ],
   "source": [
    "# 12\n",
    "def remove_duplicates(varlist):\n",
    "    newlist = []\n",
    "    for var in varlist:\n",
    "        if var not in newlist: newlist.append(var)\n",
    "    return newlist\n",
    "print (remove_duplicates([1,1,2,2]))\n",
    "# ---\n",
    "# 13 sorted()\n",
    "# The median is the middle number in a sorted sequence of numbers. If you are given a sequence with \n",
    "# an even number of elements, you must average the two elements surrounding the middle.\n",
    "# sorted([5, 2, 3, 1, 4]) --> [1, 2, 3, 4, 5]\n",
    "def median(varlist):\n",
    "    sortedlist = sorted(varlist)\n",
    "    length = len(varlist)\n",
    "    if length % 2 == 1:\n",
    "        return sortedlist[ ((length+1) / 2 - 1) ]\n",
    "    else:\n",
    "        return (sortedlist[length/2 - 1] + sortedlist[length/2])/2.0\n",
    "print (median([1,1,2]))   # 1\n",
    "print (median([7,3,1,4])) # 3.5"
   ]
  },
  {
   "cell_type": "code",
   "execution_count": 47,
   "metadata": {},
   "outputs": [
    {
     "name": "stdout",
     "output_type": "stream",
     "text": [
      "100\n",
      "100\n",
      "90\n",
      "40\n",
      "80\n",
      "100\n",
      "85\n",
      "70\n",
      "90\n",
      "65\n",
      "90\n",
      "85\n",
      "50.5\n",
      "1045.5\n",
      "80.42307692307692\n"
     ]
    }
   ],
   "source": [
    "grades = [100, 100, 90, 40, 80, 100, 85, 70, 90, 65, 90, 85, 50.5]\n",
    "def print_grades(grades):\n",
    "    for grade in grades: print (grade)\n",
    "def grades_sum(scores):\n",
    "    total = 0\n",
    "    for score in scores: total += score\n",
    "    return total\n",
    "def grades_average(grades):\n",
    "    return grades_sum(grades)/float(len(grades))\n",
    "print_grades(grades)\n",
    "print (grades_sum(grades))\n",
    "print (grades_average(grades))"
   ]
  },
  {
   "cell_type": "code",
   "execution_count": 48,
   "metadata": {},
   "outputs": [
    {
     "name": "stdout",
     "output_type": "stream",
     "text": [
      "100\n",
      "100\n",
      "90\n",
      "40\n",
      "80\n",
      "100\n",
      "85\n",
      "70\n",
      "90\n",
      "65\n",
      "90\n",
      "85\n",
      "50.5\n",
      "None\n",
      "1045.5\n",
      "80.42307692307692\n",
      "334.0710059171598\n",
      "18.277609414722697\n"
     ]
    }
   ],
   "source": [
    "def grades_average(grades):\n",
    "    sum_of_grades = grades_sum(grades)\n",
    "    average = sum_of_grades / float(len(grades))\n",
    "    return average\n",
    "def grades_variance(scores):\n",
    "    average = grades_average(scores)\n",
    "    variance = 0\n",
    "    for score in scores:\n",
    "        variance += (average - score) ** 2\n",
    "    variance /= float(len(scores))\n",
    "    return variance\n",
    "def grades_std_deviation(variance): return variance ** 0.5\n",
    "variance = grades_variance(grades)\n",
    "print (print_grades(grades))\n",
    "print (grades_sum(grades))\n",
    "print (grades_average(grades))\n",
    "print (grades_variance(grades))\n",
    "print (grades_std_deviation(variance))"
   ]
  },
  {
   "cell_type": "code",
   "execution_count": 50,
   "metadata": {},
   "outputs": [
    {
     "ename": "SyntaxError",
     "evalue": "invalid syntax (<ipython-input-50-15aad32c150a>, line 9)",
     "output_type": "error",
     "traceback": [
      "\u001b[1;36m  File \u001b[1;32m\"<ipython-input-50-15aad32c150a>\"\u001b[1;36m, line \u001b[1;32m9\u001b[0m\n\u001b[1;33m    for key in my_dict: print (key, my_dict))\u001b[0m\n\u001b[1;37m                                            ^\u001b[0m\n\u001b[1;31mSyntaxError\u001b[0m\u001b[1;31m:\u001b[0m invalid syntax\n"
     ]
    }
   ],
   "source": [
    "my_dict = {\n",
    "    \"Name\": \"Otong\",\n",
    "    \"Age\": 23,\n",
    "    \"Title\": \"Dr\"\n",
    "}\n",
    "print (my_dict.items())  # [('Age', 23), ('Name', 'Otong'), ('Title', 'Dr')]\n",
    "print (my_dict.keys())   # ['Age', 'Name', 'Title']\n",
    "print (my_dict.values()) # [23, 'Otong', 'Dr']\n",
    "for key in my_dict: print (key, my_dict[key]))\n",
    "# Age 23\n",
    "# Name Otong\n",
    "# Title Dr\n",
    "# You should use print a, b rather than print a + \" \" + b"
   ]
  },
  {
   "cell_type": "code",
   "execution_count": 51,
   "metadata": {},
   "outputs": [
    {
     "name": "stdout",
     "output_type": "stream",
     "text": [
      "[0, 2, 4, 6, 8, 10, 12, 14, 16, 18, 20, 22, 24, 26, 28, 30, 32, 34, 36, 38, 40, 42, 44, 46, 48, 50]\n",
      "[4, 16, 36, 64, 100]\n"
     ]
    }
   ],
   "source": [
    "# 1\n",
    "evens_to_50 = [i for i in range(51) if i % 2 == 0]\n",
    "print (evens_to_50)\n",
    "# [0, 2, 4, 6, 8, 10, 12, 14, 16, 18, 20, 22, 24, 26, 28, 30, 32, 34, 36, 38, 40, 42, 44, 46, 48, 50]\n",
    "# ---------------------------------------------------------\n",
    "# 2\n",
    "new_list = [x for x in range(1,6)]                       # => [1, 2, 3, 4, 5]\n",
    "doubles = [x*2 for x in range(1,6)]                      # => [2, 4, 6, 8, 10]\n",
    "doubles_by_3 = [x*2 for x in range(1,6) if (x*2)%3 == 0] # => [6]\n",
    "# ---------------------------------------------------------\n",
    "# 3\n",
    "doubles_by_3 = [x*2 for x in range(1,6) if (x*2) % 3 == 0]\n",
    "even_squares = [x**2 for x in range(1,12) if x%2 == 0]\n",
    "print (even_squares) # [4, 16, 36, 64, 100]\n",
    "# ---------------------------------------------------------"
   ]
  },
  {
   "cell_type": "code",
   "execution_count": 52,
   "metadata": {},
   "outputs": [
    {
     "name": "stdout",
     "output_type": "stream",
     "text": [
      "['C', 'C', 'C']\n",
      "[8, 64, 216, 512, 1000]\n",
      "[9, 25, 49, 81]\n"
     ]
    }
   ],
   "source": [
    "# 4\n",
    "c = ['C' for x in range(5) if x < 3]\n",
    "print (c) # ['C', 'C', 'C']\n",
    "# ---------------------------------------------------------\n",
    "# 5\n",
    "cubes_by_four = [x**3 for x in range(1,11) if (x**3)%4 == 0]\n",
    "print (cubes_by_four) # [8, 64, 216, 512, 1000]\n",
    "# ---------------------------------------------------------\n",
    "# 6\n",
    "l = [i ** 2 for i in range(1, 11)]  # Should be [1, 4, 9, 16, 25, 36, 49, 64, 81, 100]\n",
    "print (l[2:9:2]) # [9, 25, 49, 81] -- 2 belakang, 1 diloncat\n",
    "# list slicing\n",
    "# [start:end:stride]\n",
    "# Where start describes where the slice starts (inclusive), end is where it ends (exclusive), \n",
    "# and stride describes the space between items in the sliced list. For example, a stride of 2 \n",
    "# would select every other item from the original list to place in the sliced list.\n",
    "# start & end --> index"
   ]
  },
  {
   "cell_type": "code",
   "execution_count": 53,
   "metadata": {},
   "outputs": [
    {
     "name": "stdout",
     "output_type": "stream",
     "text": [
      "['D', 'E']\n",
      "['A', 'B']\n",
      "['A', 'C', 'E']\n",
      "range(1, 11, 2)\n"
     ]
    }
   ],
   "source": [
    "# 7\n",
    "to_five = ['A', 'B', 'C', 'D', 'E']\n",
    "print (to_five[3:])  #['D', 'E'] \n",
    "print (to_five[:2])  #['A', 'B']\n",
    "print (to_five[::2]) #['A', 'C', 'E']\n",
    "\"\"\"\n",
    "The default starting index is 0.\n",
    "The default ending index is the end of the list.\n",
    "The default stride is 1.\n",
    "\"\"\"\n",
    "# ---------------------------------------------------------\n",
    "# 8\n",
    "my_list = range(1, 11) # List of numbers 1 - 10\n",
    "print (my_list[::2]) #[1, 3, 5, 7, 9]\n",
    "# ---------------------------------------------------------"
   ]
  },
  {
   "cell_type": "code",
   "execution_count": 54,
   "metadata": {},
   "outputs": [
    {
     "name": "stdout",
     "output_type": "stream",
     "text": [
      "['E', 'D', 'C', 'B', 'A']\n",
      "range(100, -1, -10)\n"
     ]
    }
   ],
   "source": [
    "# 9\n",
    "letters = ['A', 'B', 'C', 'D', 'E']\n",
    "print (letters[::-1]) #['E', 'D', 'C', 'B', 'A'] right to left\n",
    "# ---------------------------------------------------------\n",
    "# 10\n",
    "my_list = range(1, 11)\n",
    "backwards = my_list[::-1]\n",
    "# ---------------------------------------------------------\n",
    "# 11\n",
    "to_one_hundred = range(101)\n",
    "backwards_by_tens = to_one_hundred[::-10]\n",
    "print (backwards_by_tens) #[100, 90, 80, 70, 60, 50, 40, 30, 20, 10, 0]\n",
    "# ---------------------------------------------------------\n",
    "# 12\n",
    "to_21 = range(1,22)\n",
    "odds = to_21[::2]\n",
    "middle_third = to_21[7:14]"
   ]
  },
  {
   "cell_type": "code",
   "execution_count": 55,
   "metadata": {},
   "outputs": [
    {
     "name": "stdout",
     "output_type": "stream",
     "text": [
      "<filter object at 0x0000022F31186E48>\n"
     ]
    }
   ],
   "source": [
    "# ekivalen\n",
    "lambda x: x % 3 == 0\n",
    "def by_three(x): return x % 3 == 0\n",
    "# ---------------------------------------------------------\n",
    "# filter\n",
    "my_list = range(16)\n",
    "print (filter(lambda x: x % 3 == 0, my_list))\n",
    "# yg bs di bagi 3 -> [0, 3, 6, 9, 12, 15]\n",
    "# ---------------------------------------------------------"
   ]
  },
  {
   "cell_type": "code",
   "execution_count": 56,
   "metadata": {},
   "outputs": [
    {
     "name": "stdout",
     "output_type": "stream",
     "text": [
      "<filter object at 0x0000022F31182F60>\n",
      "<filter object at 0x0000022F31182A58>\n",
      "<filter object at 0x0000022F31182860>\n"
     ]
    }
   ],
   "source": [
    "languages = [\"HTML\", \"JavaScript\", \"Python\", \"Ruby\"]\n",
    "print (filter(lambda x: x==\"Python\", languages)) # ['Python']\n",
    "# ---------------------------------------------------------\n",
    "cubes = [x**3 for x in range(1, 11)]\n",
    "print (filter(lambda x: x % 3 == 0, cubes))\n",
    "# ---------------------------------------------------------\n",
    "squares = [x**2 for x in range(1,11)]\n",
    "print (filter(lambda x: x > 30 and x <=70, squares)) # [36, 49, 64]\n",
    "# ---------------------------------------------------------"
   ]
  },
  {
   "cell_type": "code",
   "execution_count": 57,
   "metadata": {},
   "outputs": [
    {
     "name": "stdout",
     "output_type": "stream",
     "text": [
      "dict_items([('Monty Python and the Holy Grail', 'Great'), (\"Monty Python's Life of Brian\", 'Good'), (\"Monty Python's Meaning of Life\", 'Okay')])\n"
     ]
    }
   ],
   "source": [
    "# Dictionary\n",
    "movies = {\n",
    "    \"Monty Python and the Holy Grail\": \"Great\",\n",
    "    \"Monty Python's Life of Brian\": \"Good\",\n",
    "    \"Monty Python's Meaning of Life\": \"Okay\"\n",
    "}\n",
    "print (movies.items())\n",
    "#for key in movies: print key, my_dict[key]\n",
    "# ---------------------------------------------------------\n",
    "# Comprehending Comprehensions\n",
    "squares = [x**2 for x in range(5)]\n",
    "threes_and_fives = [x for x in range(1,16) if x%3 == 0 or x%5 ==0]"
   ]
  },
  {
   "cell_type": "code",
   "execution_count": 58,
   "metadata": {},
   "outputs": [
    {
     "ename": "SyntaxError",
     "evalue": "invalid syntax (<ipython-input-58-59184688385f>, line 12)",
     "output_type": "error",
     "traceback": [
      "\u001b[1;36m  File \u001b[1;32m\"<ipython-input-58-59184688385f>\"\u001b[1;36m, line \u001b[1;32m12\u001b[0m\n\u001b[1;33m    print filter(lambda x: x % 3 == 0, my_list)\u001b[0m\n\u001b[1;37m               ^\u001b[0m\n\u001b[1;31mSyntaxError\u001b[0m\u001b[1;31m:\u001b[0m invalid syntax\n"
     ]
    }
   ],
   "source": [
    "# List Slicing\n",
    "str = \"ABCDEFGHIJ\"\n",
    "# str[start:end:stride] -> start, end, stride = 1, 6, 2\n",
    "# ---------------------------------------------------------\n",
    "garbled = \"!XeXgXaXsXsXeXmX XtXeXrXcXeXsX XeXhXtX XmXaX XI\"\n",
    "rev_garbled = garbled[::-1]\n",
    "message = rev_garbled[::2]\n",
    "print (message)\n",
    "# ---------------------------------------------------------\n",
    "# Lambda\n",
    "my_list = range(16)\n",
    "print filter(lambda x: x % 3 == 0, my_list)\n",
    "garbled = \"IXXX aXXmX aXXXnXoXXXXXtXhXeXXXXrX sXXXXeXcXXXrXeXt mXXeXsXXXsXaXXXXXXgXeX!XX\"\n",
    "message = filter(lambda x: x != 'X',garbled)\n",
    "print (message)"
   ]
  },
  {
   "cell_type": "code",
   "execution_count": 59,
   "metadata": {},
   "outputs": [
    {
     "name": "stdout",
     "output_type": "stream",
     "text": [
      "0\n",
      "10\n",
      "0\n",
      "13\n",
      "38\n",
      "-89\n",
      "1\n",
      "2\n",
      "3\n",
      "4\n",
      "5\n",
      "6\n",
      "7\n",
      "4\n",
      "9\n"
     ]
    }
   ],
   "source": [
    "# bitwise operator\n",
    "print (5 >> 4)  # Right Shift 101 -> 0\n",
    "print (5 << 1)  # Left Shift 101 -> 1010\n",
    "print (8 & 5)   # Bitwise AND 1000 & 0101 -> 0\n",
    "print (9 | 4 )  # Bitwise OR\n",
    "print (12 ^ 42) # Bitwise XOR\n",
    "print (~88)     # Bitwise NOT\n",
    "# 0 | 10 | 0 | 13 | 38 | -89\n",
    "# ---------------------------------------------------------\n",
    "# hasil operasi print -> desimal\n",
    "print (0b1,)   #1\n",
    "print (0b10,)   #2\n",
    "print (0b11,)   #3\n",
    "print (0b100,)  #4\n",
    "print (0b101,)  #5\n",
    "print (0b110,)  #6\n",
    "print (0b111)   #7\n",
    "#1 2 3 4 5 6 7\n",
    "print (0b1 + 0b11)  #4\n",
    "print (0b11 * 0b11) #9ne = 0b1; two = 0b10; three = 0b11; four = 0b100; five = 0b101; six = 0b110; \n",
    "seven = 0b111; eight = 0b1000; nine = 0b1001; ten = 0b1010; eleven = 0b1011; twelve = 0b1100\n",
    "print eight\n",
    "# ---------------------------------------------------------\n",
    "print bin(1) #0b1\n",
    "print bin(2) #0b10\n",
    "print bin(3) #0b11\n",
    "print bin(4) #0b100\n",
    "print bin(5) #0b101\n",
    "# ---------------------------------------------------------\n",
    "print int(\"1\",2)     # 1\n",
    "print int(\"10\",2)    # 2\n",
    "print int(\"111\",2)   # 7\n",
    "print int(\"0b100\",2) # 4\n",
    "print int(bin(5),2)  # 5\n",
    "# Print out the decimal equivalent of the binary 11001001.\n",
    "print int(\"0b11001001\",2) # 201\n",
    "# base 2 semua, pakei 0b atau gak, sama"
   ]
  },
  {
   "cell_type": "code",
   "execution_count": 61,
   "metadata": {},
   "outputs": [
    {
     "name": "stdout",
     "output_type": "stream",
     "text": [
      "8\n",
      "0b1\n",
      "0b10\n",
      "0b11\n",
      "0b100\n",
      "0b101\n",
      "1\n",
      "2\n",
      "7\n",
      "4\n",
      "5\n",
      "201\n"
     ]
    }
   ],
   "source": [
    "\n",
    "one = 0b1; two = 0b10; three = 0b11; four = 0b100; five = 0b101; six = 0b110; \n",
    "seven = 0b111; eight = 0b1000; nine = 0b1001; ten = 0b1010; eleven = 0b1011; twelve = 0b1100\n",
    "print (eight)\n",
    "# ---------------------------------------------------------\n",
    "print (bin(1)) #0b1\n",
    "print (bin(2)) #0b10\n",
    "print (bin(3)) #0b11\n",
    "print (bin(4)) #0b100\n",
    "print (bin(5)) #0b101\n",
    "# ---------------------------------------------------------\n",
    "print (int(\"1\",2))     # 1\n",
    "print (int(\"10\",2))    # 2\n",
    "print (int(\"111\",2))  # 7\n",
    "print (int(\"0b100\",2)) # 4\n",
    "print (int(bin(5),2))  # 5\n",
    "# Print out the decimal equivalent of the binary 11001001.\n",
    "print (int(\"0b11001001\",2)) # 201\n",
    "# base 2 semua, pakei 0b atau gak, sama"
   ]
  },
  {
   "cell_type": "code",
   "execution_count": 62,
   "metadata": {},
   "outputs": [
    {
     "name": "stdout",
     "output_type": "stream",
     "text": [
      "0b11\n",
      "0b100\n",
      "0b100\n",
      "0b1111\n",
      "0b1011\n",
      "-2\n",
      "-3\n",
      "-4\n",
      "-43\n",
      "-124\n"
     ]
    }
   ],
   "source": [
    "shift_right = 0b1100\n",
    "shift_left = 0b1\n",
    "shift_right = shift_right >> 2\n",
    "shift_left = shift_left << 2\n",
    "print (bin(shift_right))  # 0b11\n",
    "print (bin(shift_left))   # 0b100\n",
    "# ---------------------------------------------------------\n",
    "print (bin(0b1110 & 0b101)) # 0b100\n",
    "print (bin(0b1110 | 0b101)) # 0b1111\n",
    "print (bin(0b1110 ^ 0b101)) # xor 0b1011\n",
    "# ---------------------------------------------------------\n",
    "print (~1)   #-2\n",
    "print (~2)   #-3\n",
    "print (~3)   #-4\n",
    "print (~42)  #-43\n",
    "print (~123) #-124\n",
    "# this is equivalent to adding one to the number and then making it negative."
   ]
  },
  {
   "cell_type": "code",
   "execution_count": 63,
   "metadata": {},
   "outputs": [
    {
     "name": "stdout",
     "output_type": "stream",
     "text": [
      "0b10111111\n",
      "0b10111111\n",
      "0b10001\n"
     ]
    }
   ],
   "source": [
    "# mask\n",
    "def check_bit4(input): # input reserved?\n",
    "    mask = 0b1000\n",
    "    desired = input & mask\n",
    "    if desired > 0: return \"on\"\n",
    "    else: return \"off\"\n",
    "# ---------------------------------------------------------\n",
    "a = 0b10111011\n",
    "mask = 0b100\n",
    "print (bin(a | mask)) # 0b10111111\n",
    "print (bin(a ^ mask)) # 0b10111111\n",
    "# ---------------------------------------------------------\n",
    "a = 0b11101110\n",
    "mask = 0b11111111   #flip *semua* bit a\n",
    "print (bin(a ^ mask)) # 0b10001 \n",
    "# ---------------------------------------------------------\n",
    "def flip_bit(number,n):\n",
    "    mask = (0b1 << (n-1))\n",
    "    result = number ^ mask\n",
    "    return bin(result)\n",
    "#xor kalau mask 1 nge-flip; kalo mask 0 tetap"
   ]
  },
  {
   "cell_type": "code",
   "execution_count": 64,
   "metadata": {},
   "outputs": [
    {
     "name": "stdout",
     "output_type": "stream",
     "text": [
      "I'm a yellow lemon and I taste sour.\n",
      "Yep! I'm edible.\n"
     ]
    }
   ],
   "source": [
    "class Fruit(object):\n",
    "    \"\"\"A class that makes various tasty fruits.\"\"\"\n",
    "    def __init__(self, name, color, flavor, poisonous):\n",
    "        self.name = name\n",
    "        self.color = color\n",
    "        self.flavor = flavor\n",
    "        self.poisonous = poisonous\n",
    "    def description(self):\n",
    "        print (\"I'm a %s %s and I taste %s.\" % (self.color, self.name, self.flavor))\n",
    "    def is_edible(self):\n",
    "        if not self.poisonous: print (\"Yep! I'm edible.\")\n",
    "        else: print (\"Don't eat me! I am super poisonous.\")\n",
    "# ---------------------------------------------------------\n",
    "lemon = Fruit(\"lemon\", \"yellow\", \"sour\", False)\n",
    "lemon.description()\n",
    "lemon.is_edible()"
   ]
  },
  {
   "cell_type": "code",
   "execution_count": 65,
   "metadata": {},
   "outputs": [
    {
     "name": "stdout",
     "output_type": "stream",
     "text": [
      "Jeffrey\n",
      "4\n"
     ]
    }
   ],
   "source": [
    "class Animal(object): pass\n",
    "class Animal(object):\n",
    "    def __init__(self): pass\n",
    "class Animal(object):\n",
    "    def __init__(self,name): self.name = name\n",
    "zebra = Animal(\"Jeffrey\")\n",
    "print (zebra.name)\n",
    "# ---------------------------------------------------------\n",
    "class Square(object):\n",
    "  def __init__(self): self.sides = 4\n",
    "my_shape = Square()\n",
    "print (my_shape.sides)"
   ]
  },
  {
   "cell_type": "code",
   "execution_count": 66,
   "metadata": {},
   "outputs": [
    {
     "name": "stdout",
     "output_type": "stream",
     "text": [
      "Jeffrey 2 True\n",
      "Bruce 1 False\n",
      "Chad 7 True\n"
     ]
    }
   ],
   "source": [
    "class Animal(object):\n",
    "    \"\"\"Makes cute animals.\"\"\"\n",
    "    def __init__(self, name, age, is_hungry):\n",
    "        self.name = name\n",
    "        self.age = age\n",
    "        self.is_hungry = is_hungry\n",
    "# Note that self is only used in the __init__() function *definition*; \n",
    "# we don't need to pass it to our instance objects.\n",
    "zebra = Animal(\"Jeffrey\", 2, True)\n",
    "giraffe = Animal(\"Bruce\", 1, False)\n",
    "panda = Animal(\"Chad\", 7, True)\n",
    "print (zebra.name, zebra.age, zebra.is_hungry )       # Jeffrey 2 True\n",
    "print (giraffe.name, giraffe.age, giraffe.is_hungry)  # Bruce 1 False\n",
    "print (panda.name, panda.age, panda.is_hungry)        # Chad 7 True"
   ]
  },
  {
   "cell_type": "code",
   "execution_count": 67,
   "metadata": {},
   "outputs": [
    {
     "name": "stdout",
     "output_type": "stream",
     "text": [
      "Jeffrey 2 True\n",
      "Bruce 1 True\n",
      "Chad 7 True\n"
     ]
    }
   ],
   "source": [
    "class Animal(object):\n",
    "    \"\"\"Makes cute animals.\"\"\"\n",
    "    is_alive = True\n",
    "    def __init__(self, name, age):\n",
    "        self.name = name\n",
    "        self.age = age\n",
    "zebra = Animal(\"Jeffrey\", 2)\n",
    "giraffe = Animal(\"Bruce\", 1)\n",
    "panda = Animal(\"Chad\", 7)\n",
    "print (zebra.name, zebra.age, zebra.is_alive)        #Jeffrey 2 True\n",
    "print (giraffe.name, giraffe.age, giraffe.is_alive)  #Bruce 1 True\n",
    "print (panda.name, panda.age, panda.is_alive )       #Chad 7 True\n",
    "#is_alive member variable; name,age instance variables"
   ]
  },
  {
   "cell_type": "code",
   "execution_count": 68,
   "metadata": {},
   "outputs": [
    {
     "name": "stdout",
     "output_type": "stream",
     "text": [
      "Nil\n",
      "5\n",
      "True\n",
      "False\n",
      "True\n"
     ]
    }
   ],
   "source": [
    "class Animal(object):\n",
    "    is_alive = True\n",
    "    def __init__(self, name, age):\n",
    "        self.name = name\n",
    "        self.age = age\n",
    "    def description(self):\n",
    "        print (self.name)\n",
    "        print (self.age)\n",
    "hippo = Animal(\"Nil\",5)\n",
    "hippo.description()\n",
    "# ---------------------------------------------------------\n",
    "hippo = Animal(\"Jake\", 12)\n",
    "cat = Animal(\"Boots\", 3)\n",
    "print (hippo.is_alive)    # True\n",
    "hippo.is_alive = False\n",
    "print (hippo.is_alive )   # False\n",
    "print (cat.is_alive  )    # True"
   ]
  },
  {
   "cell_type": "code",
   "execution_count": 69,
   "metadata": {},
   "outputs": [
    {
     "name": "stdout",
     "output_type": "stream",
     "text": [
      "Nil\n",
      "5\n",
      "good\n",
      "good\n",
      "good\n"
     ]
    }
   ],
   "source": [
    "class Animal(object):\n",
    "    is_alive = True\n",
    "    health = \"good\"\n",
    "    def __init__(self, name, age):\n",
    "        self.name = name\n",
    "        self.age = age\n",
    "    def description(self):\n",
    "        print (self.name)\n",
    "        print (self.age)\n",
    "hippo = Animal(\"Nil\",5)\n",
    "hippo.description()\n",
    "sloth = Animal(\"slothName\", 6)\n",
    "ocelot = Animal(\"ocelotName\",7)\n",
    "print (hippo.health)  # good\n",
    "print (sloth.health)  # good\n",
    "print (ocelot.health) # good\n",
    "#member variable = class variable (bukan instance, available to all inst)"
   ]
  },
  {
   "cell_type": "code",
   "execution_count": 70,
   "metadata": {},
   "outputs": [],
   "source": [
    "class ShoppingCart(object):\n",
    "    \"\"\"Creates shopping cart objects\n",
    "    for users of our fine website.\"\"\"\n",
    "    items_in_cart = {}\n",
    "    def __init__(self, customer_name):\n",
    "        self.customer_name = customer_name\n",
    "    def add_item(self, product, price):\n",
    "        \"\"\"Add product to the cart.\"\"\"\n",
    "        if not product in self.items_in_cart:\n",
    "            self.items_in_cart[product] = price\n",
    "            print (product + \" added.\")\n",
    "        else:\n",
    "            print (product + \" is already in the cart.\")\n",
    "    def remove_item(self, product):\n",
    "        \"\"\"Remove product from the cart.\"\"\"\n",
    "        if product in self.items_in_cart:\n",
    "            del self.items_in_cart[product]\n",
    "            print (product + \" removed.\")\n",
    "        else:\n",
    "            print (product + \" is not in the cart.\")"
   ]
  },
  {
   "cell_type": "code",
   "execution_count": 71,
   "metadata": {},
   "outputs": [
    {
     "name": "stdout",
     "output_type": "stream",
     "text": [
      "Obeng added.\n",
      "Obeng is already in the cart.\n",
      "{'Obeng': 2000}\n",
      "Sapu added.\n",
      "Sapu is already in the cart.\n",
      "{'Obeng': 2000, 'Sapu': 2000}\n",
      "Sapu is already in the cart.\n",
      "{'Obeng': 2000, 'Sapu': 2000}\n",
      "{'Buku': 3000}\n",
      "{'Obeng': 2000, 'Sapu': 2000}\n",
      "Sapu added.\n",
      "{'Buku': 3000, 'Sapu': 1000}\n",
      "Dodol added.\n",
      "{'Obeng': 2000, 'Sapu': 2000, 'Dodol': 10000}\n",
      "{'Buku': 3000, 'Sapu': 1000}\n"
     ]
    }
   ],
   "source": [
    "my_cart1 = ShoppingCart(\"Otong\")\n",
    "my_cart2 = ShoppingCart(\"Udjang\")\n",
    "my_cart1.add_item(\"Obeng\",2000)  # Obeng added.\n",
    "my_cart1.add_item(\"Obeng\",1000)  # Obeng is already in the cart.\n",
    "print (my_cart1.items_in_cart)     # {'Obeng': 2000} \n",
    "my_cart2.add_item(\"Sapu\",2000)  # Sapu added.\n",
    "my_cart2.add_item(\"Sapu\",1000)  # Sapu is already in the cart.\n",
    "print (my_cart2.items_in_cart)    # {'Obeng': 2000, 'Sapu': 2000} \n",
    "my_cart1.add_item(\"Sapu\",5000)  # Sapu is already in the cart.\n",
    "print (my_cart1.items_in_cart )   # {'Obeng': 2000, 'Sapu': 2000}\n",
    "my_cart2.items_in_cart = {'Buku': 3000}\n",
    "print (my_cart2.items_in_cart)    # {'Buku': 3000}\n",
    "print (my_cart1.items_in_cart)    # {'Obeng': 2000, 'Sapu': 2000}\n",
    "my_cart2.add_item(\"Sapu\",1000)  # Sapu added.\n",
    "print (my_cart2.items_in_cart)    # {'Sapu': 1000, 'Buku': 3000}\n",
    "my_cart1.add_item(\"Dodol\",10000) # Dodol added.\n",
    "print (my_cart1.items_in_cart )    # {'Obeng': 2000, 'Sapu': 2000, 'Dodol': 10000}\n",
    "print (my_cart2.items_in_cart )    # {'Sapu': 1000, 'Buku': 3000}"
   ]
  },
  {
   "cell_type": "code",
   "execution_count": 73,
   "metadata": {},
   "outputs": [
    {
     "name": "stdout",
     "output_type": "stream",
     "text": [
      "I'm a string that stands in for the contents of your shopping cart!\n",
      "I'm a string that stands in for your order history!\n"
     ]
    }
   ],
   "source": [
    "class Customer(object):\n",
    "    \"\"\"Produces objects that represent customers.\"\"\"\n",
    "    def __init__(self, customer_id):\n",
    "        self.customer_id = customer_id\n",
    "    def display_cart(self):\n",
    "        print (\"I'm a string that stands in for the contents of your shopping cart!\")\n",
    "class ReturningCustomer(Customer):\n",
    "    \"\"\"For customers of the repeat variety.\"\"\"\n",
    "    def display_order_history(self):\n",
    "        print (\"I'm a string that stands in for your order history!\")\n",
    "monty_python = ReturningCustomer(\"ID: 12345\")\n",
    "monty_python.display_cart()           # Customer.display_cart\n",
    "monty_python.display_order_history()  # ReturningCustomer"
   ]
  },
  {
   "cell_type": "code",
   "execution_count": 74,
   "metadata": {},
   "outputs": [
    {
     "name": "stdout",
     "output_type": "stream",
     "text": [
      "1\n"
     ]
    }
   ],
   "source": [
    "class Shape(object):\n",
    "    \"\"\"Makes shapes!\"\"\"\n",
    "    def __init__(self, number_of_sides):\n",
    "        self.number_of_sides = number_of_sides\n",
    "class Triangle(Shape):\n",
    "    def __init__(self,side1,side2,side3):\n",
    "        self.side1 = side1\n",
    "        self.side2 = side2\n",
    "        self.side3 = side3\n",
    "# Override __init__\n",
    "segitiga2 = Triangle(1,2,3)\n",
    "print (segitiga2.side1)\n",
    "#print segitiga2.number_of_sides #super?"
   ]
  },
  {
   "cell_type": "code",
   "execution_count": 75,
   "metadata": {},
   "outputs": [
    {
     "name": "stdout",
     "output_type": "stream",
     "text": [
      "Hello, Emily\n",
      "Get back to work, Steve!\n"
     ]
    }
   ],
   "source": [
    "class Employee(object):\n",
    "    def __init__(self, name):\n",
    "        self.name = name\n",
    "    def greet(self, other):\n",
    "        print (\"Hello, %s\" % other.name)\n",
    "class CEO(Employee):\n",
    "    def greet(self, other):\n",
    "        print (\"Get back to work, %s!\" % other.name)\n",
    "ceo = CEO(\"Emily\")\n",
    "emp = Employee(\"Steve\")\n",
    "emp.greet(ceo) # Hello, Emily\n",
    "ceo.greet(emp) # Get back to work, Steve!"
   ]
  },
  {
   "cell_type": "code",
   "execution_count": 76,
   "metadata": {},
   "outputs": [
    {
     "name": "stdout",
     "output_type": "stream",
     "text": [
      "200.0\n"
     ]
    }
   ],
   "source": [
    "class Employee(object):\n",
    "    \"\"\"Models real-life employees!\"\"\"\n",
    "    def __init__(self, employee_name):\n",
    "        self.employee_name = employee_name\n",
    "    def calculate_wage(self, hours):\n",
    "        self.hours = hours\n",
    "        return hours * 20.00\n",
    "class PartTimeEmployee(Employee):\n",
    "    def calculate_wage(self,hours):\n",
    "        self.hours = hours\n",
    "        return hours * 12.00\n",
    "    def full_time_wage(self,hours):\n",
    "        return super(PartTimeEmployee,self).calculate_wage(hours)\n",
    "milton = PartTimeEmployee(\"Milton\")\n",
    "print (milton.full_time_wage(10))"
   ]
  },
  {
   "cell_type": "code",
   "execution_count": 77,
   "metadata": {},
   "outputs": [
    {
     "name": "stdout",
     "output_type": "stream",
     "text": [
      "3\n",
      "True\n"
     ]
    }
   ],
   "source": [
    "class Triangle(object):\n",
    "    number_of_sides = 3\n",
    "    def __init__(self, angle1, angle2, angle3):\n",
    "        self.angle1 = angle1\n",
    "        self.angle2 = angle2\n",
    "        self.angle3 = angle3\n",
    "    def check_angles(self):\n",
    "        sum_angle = self.angle1 + self.angle2 + self.angle3\n",
    "        if sum_angle == 180: return True\n",
    "        else: return False\n",
    "class Equilateral(Triangle):\n",
    "    angle = 60\n",
    "    def __init__(self):\n",
    "        self.angle1 = self.angle\n",
    "        self.angle2 = self.angle\n",
    "        self.angle3 = self.angle\n",
    "my_triangle = Triangle(90,30,60)\n",
    "print (my_triangle.number_of_sides) # 3 inherited\n",
    "print (my_triangle.check_angles())  # True"
   ]
  },
  {
   "cell_type": "code",
   "execution_count": 78,
   "metadata": {},
   "outputs": [
    {
     "name": "stdout",
     "output_type": "stream",
     "text": [
      "new\n",
      "like new\n",
      "new\n",
      "DeLorean\n",
      "This is a silver DeLorean with 88 MPG.\n",
      "used\n"
     ]
    }
   ],
   "source": [
    "class Car(object):\n",
    "    condition = \"new\"\n",
    "    def __init__(self, model, color, mpg):\n",
    "        self.model = model; self.color = color; self.mpg = mpg\n",
    "    def display_car(self):\n",
    "        return \"This is a %s %s with %s MPG.\" % (self.color, self.model, str(self.mpg))\n",
    "    def drive_car(self): self.condition = \"used\"\n",
    "class ElectricCar(Car):\n",
    "    def __init__(self,model,color,mpg,battery_type):\n",
    "        super(ElectricCar,self).__init__(model,color,mpg)\n",
    "        self.battery_type = battery_type\n",
    "    def drive_car(self): self.condition=\"like new\"\n",
    "my_car = ElectricCar(\"DeLorean\", \"silver\", 88, \"molten salt\")\n",
    "print (my_car.condition) # new \n",
    "my_car.drive_car()     # \n",
    "print (my_car.condition) # like new\n",
    "my_car1 = Car(\"DeLorean\", \"silver\", 88)\n",
    "print (my_car1.condition)      # new\n",
    "print (my_car1.model)          # DeLorean    \n",
    "print (my_car1.display_car())  # This is a silver DeLorean with 88 MPG.\n",
    "my_car1.drive_car()\n",
    "print (my_car1.condition)      # used"
   ]
  },
  {
   "cell_type": "code",
   "execution_count": 79,
   "metadata": {},
   "outputs": [
    {
     "ename": "SyntaxError",
     "evalue": "unexpected EOF while parsing (<ipython-input-79-c68473ce418a>, line 9)",
     "output_type": "error",
     "traceback": [
      "\u001b[1;36m  File \u001b[1;32m\"<ipython-input-79-c68473ce418a>\"\u001b[1;36m, line \u001b[1;32m9\u001b[0m\n\u001b[1;33m    print (my_point # (1, 2, 3))\u001b[0m\n\u001b[1;37m                                ^\u001b[0m\n\u001b[1;31mSyntaxError\u001b[0m\u001b[1;31m:\u001b[0m unexpected EOF while parsing\n"
     ]
    }
   ],
   "source": [
    "class Point3D(object):\n",
    "    def __init__(self,x,y,z):\n",
    "        self.x = x\n",
    "        self.y = y\n",
    "        self.z = z\n",
    "    def __repr__(self):\n",
    "        return \"(%d, %d, %d)\" % (self.x, self.y, self.z)\n",
    "my_point = Point3D(1,2,3)\n",
    "print (my_point # (1, 2, 3))"
   ]
  },
  {
   "cell_type": "code",
   "execution_count": 80,
   "metadata": {},
   "outputs": [],
   "source": [
    "# Generates a list of squares of the numbers 1 - 10\n",
    "my_list = [i**2 for i in range(1,11)]\n",
    "f = open(\"output.txt\", \"w\")\n",
    "for item in my_list: f.write(str(item) + \"\\n\")\n",
    "f.close()\n",
    "# This told Python to open output.txt in \"w\" mode (\"w\" stands for \"write\"). \n",
    "# We stored the result of this operation in a file object, f."
   ]
  },
  {
   "cell_type": "code",
   "execution_count": 81,
   "metadata": {},
   "outputs": [],
   "source": [
    "my_list = [i**2 for i in range(1,11)]\n",
    "my_file = open(\"output.txt\", \"r+\")\n",
    "for i in my_list: my_file.write(str(i) + \"\\n\")\n",
    "my_file.close()\n",
    "# \"r+\" as a second argument to the function so the \n",
    "# file will allow you to read and write"
   ]
  },
  {
   "cell_type": "code",
   "execution_count": 82,
   "metadata": {},
   "outputs": [
    {
     "name": "stdout",
     "output_type": "stream",
     "text": [
      "1\n",
      "4\n",
      "9\n",
      "16\n",
      "25\n",
      "36\n",
      "49\n",
      "64\n",
      "81\n",
      "100\n",
      "\n"
     ]
    },
    {
     "ename": "FileNotFoundError",
     "evalue": "[Errno 2] No such file or directory: 'text.txt'",
     "output_type": "error",
     "traceback": [
      "\u001b[1;31m---------------------------------------------------------------------------\u001b[0m",
      "\u001b[1;31mFileNotFoundError\u001b[0m                         Traceback (most recent call last)",
      "\u001b[1;32m<ipython-input-82-cc2b595527d4>\u001b[0m in \u001b[0;36m<module>\u001b[1;34m\u001b[0m\n\u001b[0;32m      5\u001b[0m \u001b[1;31m# if we want to read from a file line by line,\u001b[0m\u001b[1;33m\u001b[0m\u001b[1;33m\u001b[0m\u001b[1;33m\u001b[0m\u001b[0m\n\u001b[0;32m      6\u001b[0m \u001b[1;31m# rather than pulling the entire file in at once.\u001b[0m\u001b[1;33m\u001b[0m\u001b[1;33m\u001b[0m\u001b[1;33m\u001b[0m\u001b[0m\n\u001b[1;32m----> 7\u001b[1;33m \u001b[0mmy_file\u001b[0m \u001b[1;33m=\u001b[0m \u001b[0mopen\u001b[0m\u001b[1;33m(\u001b[0m\u001b[1;34m\"text.txt\"\u001b[0m\u001b[1;33m,\u001b[0m\u001b[1;34m\"r\"\u001b[0m\u001b[1;33m)\u001b[0m\u001b[1;33m\u001b[0m\u001b[1;33m\u001b[0m\u001b[0m\n\u001b[0m\u001b[0;32m      8\u001b[0m \u001b[0mprint\u001b[0m \u001b[1;33m(\u001b[0m\u001b[0mmy_file\u001b[0m\u001b[1;33m.\u001b[0m\u001b[0mreadline\u001b[0m\u001b[1;33m(\u001b[0m\u001b[1;33m)\u001b[0m\u001b[1;33m)\u001b[0m\u001b[1;33m\u001b[0m\u001b[1;33m\u001b[0m\u001b[0m\n\u001b[0;32m      9\u001b[0m \u001b[0mprint\u001b[0m \u001b[1;33m(\u001b[0m\u001b[0mmy_file\u001b[0m\u001b[1;33m.\u001b[0m\u001b[0mreadline\u001b[0m\u001b[1;33m(\u001b[0m\u001b[1;33m)\u001b[0m\u001b[1;33m)\u001b[0m\u001b[1;33m\u001b[0m\u001b[1;33m\u001b[0m\u001b[0m\n",
      "\u001b[1;31mFileNotFoundError\u001b[0m: [Errno 2] No such file or directory: 'text.txt'"
     ]
    }
   ],
   "source": [
    "my_file = open(\"output.txt\",\"r\")\n",
    "print (my_file.read())\n",
    "my_file.close()\n",
    "# ---\n",
    "# if we want to read from a file line by line, \n",
    "# rather than pulling the entire file in at once. \n",
    "my_file = open(\"text.txt\",\"r\")\n",
    "print (my_file.readline())\n",
    "print (my_file.readline())\n",
    "print (my_file.readline())\n",
    "my_file.close()"
   ]
  },
  {
   "cell_type": "code",
   "execution_count": 83,
   "metadata": {},
   "outputs": [
    {
     "ename": "FileNotFoundError",
     "evalue": "[Errno 2] No such file or directory: 'text.txt'",
     "output_type": "error",
     "traceback": [
      "\u001b[1;31m---------------------------------------------------------------------------\u001b[0m",
      "\u001b[1;31mFileNotFoundError\u001b[0m                         Traceback (most recent call last)",
      "\u001b[1;32m<ipython-input-83-4ee2c52bf6b3>\u001b[0m in \u001b[0;36m<module>\u001b[1;34m\u001b[0m\n\u001b[0;32m      1\u001b[0m \u001b[1;31m# Open the file for reading\u001b[0m\u001b[1;33m\u001b[0m\u001b[1;33m\u001b[0m\u001b[1;33m\u001b[0m\u001b[0m\n\u001b[1;32m----> 2\u001b[1;33m \u001b[0mread_file\u001b[0m \u001b[1;33m=\u001b[0m \u001b[0mopen\u001b[0m\u001b[1;33m(\u001b[0m\u001b[1;34m\"text.txt\"\u001b[0m\u001b[1;33m,\u001b[0m \u001b[1;34m\"r\"\u001b[0m\u001b[1;33m)\u001b[0m\u001b[1;33m\u001b[0m\u001b[1;33m\u001b[0m\u001b[0m\n\u001b[0m\u001b[0;32m      3\u001b[0m \u001b[1;31m# Use a second file handler to open the file for writing\u001b[0m\u001b[1;33m\u001b[0m\u001b[1;33m\u001b[0m\u001b[1;33m\u001b[0m\u001b[0m\n\u001b[0;32m      4\u001b[0m \u001b[0mwrite_file\u001b[0m \u001b[1;33m=\u001b[0m \u001b[0mopen\u001b[0m\u001b[1;33m(\u001b[0m\u001b[1;34m\"text.txt\"\u001b[0m\u001b[1;33m,\u001b[0m \u001b[1;34m\"w\"\u001b[0m\u001b[1;33m)\u001b[0m\u001b[1;33m\u001b[0m\u001b[1;33m\u001b[0m\u001b[0m\n\u001b[0;32m      5\u001b[0m \u001b[1;31m# Write to the file\u001b[0m\u001b[1;33m\u001b[0m\u001b[1;33m\u001b[0m\u001b[1;33m\u001b[0m\u001b[0m\n",
      "\u001b[1;31mFileNotFoundError\u001b[0m: [Errno 2] No such file or directory: 'text.txt'"
     ]
    }
   ],
   "source": [
    "# Open the file for reading\n",
    "read_file = open(\"text.txt\", \"r\")\n",
    "# Use a second file handler to open the file for writing\n",
    "write_file = open(\"text.txt\", \"w\")\n",
    "# Write to the file\n",
    "write_file.write(\"Not closing files is VERY BAD.\")\n",
    "write_file.close()\n",
    "# Try to read from the file\n",
    "print (read_file.read())\n",
    "read_file.close()"
   ]
  },
  {
   "cell_type": "code",
   "execution_count": 84,
   "metadata": {},
   "outputs": [
    {
     "ename": "FileNotFoundError",
     "evalue": "[Errno 2] No such file or directory: 'bg.txt'",
     "output_type": "error",
     "traceback": [
      "\u001b[1;31m---------------------------------------------------------------------------\u001b[0m",
      "\u001b[1;31mFileNotFoundError\u001b[0m                         Traceback (most recent call last)",
      "\u001b[1;32m<ipython-input-84-a4b665181af2>\u001b[0m in \u001b[0;36m<module>\u001b[1;34m\u001b[0m\n\u001b[0;32m      3\u001b[0m \u001b[1;31m# gak perlu close, close automatically\u001b[0m\u001b[1;33m\u001b[0m\u001b[1;33m\u001b[0m\u001b[1;33m\u001b[0m\u001b[0m\n\u001b[0;32m      4\u001b[0m \u001b[1;31m# ---------------------------------------------------------\u001b[0m\u001b[1;33m\u001b[0m\u001b[1;33m\u001b[0m\u001b[1;33m\u001b[0m\u001b[0m\n\u001b[1;32m----> 5\u001b[1;33m \u001b[0mf\u001b[0m \u001b[1;33m=\u001b[0m \u001b[0mopen\u001b[0m\u001b[1;33m(\u001b[0m\u001b[1;34m\"bg.txt\"\u001b[0m\u001b[1;33m)\u001b[0m\u001b[1;33m\u001b[0m\u001b[1;33m\u001b[0m\u001b[0m\n\u001b[0m\u001b[0;32m      6\u001b[0m \u001b[0mf\u001b[0m\u001b[1;33m.\u001b[0m\u001b[0mclosed\u001b[0m  \u001b[1;31m# False\u001b[0m\u001b[1;33m\u001b[0m\u001b[1;33m\u001b[0m\u001b[0m\n\u001b[0;32m      7\u001b[0m \u001b[0mf\u001b[0m\u001b[1;33m.\u001b[0m\u001b[0mclose\u001b[0m\u001b[1;33m(\u001b[0m\u001b[1;33m)\u001b[0m\u001b[1;33m\u001b[0m\u001b[1;33m\u001b[0m\u001b[0m\n",
      "\u001b[1;31mFileNotFoundError\u001b[0m: [Errno 2] No such file or directory: 'bg.txt'"
     ]
    }
   ],
   "source": [
    "with open(\"text.txt\", \"w\") as textfile:\n",
    "    textfile.write(\"Success!\")\n",
    "# gak perlu close, close automatically\n",
    "# ---------------------------------------------------------\n",
    "f = open(\"bg.txt\")\n",
    "f.closed  # False\n",
    "f.close()\n",
    "f.closed  # True\n",
    "# ---------------------------------------------------------\n",
    "with open(\"text.txt\",\"w\") as my_file:\n",
    "    my_file.write(\"otong\");\n",
    "if my_file.closed == False: my_file.close()\n",
    "print (my_file.closed)"
   ]
  },
  {
   "cell_type": "code",
   "execution_count": null,
   "metadata": {},
   "outputs": [],
   "source": []
  }
 ],
 "metadata": {
  "kernelspec": {
   "display_name": "Python 3",
   "language": "python",
   "name": "python3"
  },
  "language_info": {
   "codemirror_mode": {
    "name": "ipython",
    "version": 3
   },
   "file_extension": ".py",
   "mimetype": "text/x-python",
   "name": "python",
   "nbconvert_exporter": "python",
   "pygments_lexer": "ipython3",
   "version": "3.7.3"
  }
 },
 "nbformat": 4,
 "nbformat_minor": 2
}
